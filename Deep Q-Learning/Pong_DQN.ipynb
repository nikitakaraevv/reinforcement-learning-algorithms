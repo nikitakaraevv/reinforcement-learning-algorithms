{
  "nbformat": 4,
  "nbformat_minor": 0,
  "metadata": {
    "colab": {
      "name": " Pong-DQN.ipynb",
      "provenance": [],
      "collapsed_sections": [],
      "toc_visible": true,
      "include_colab_link": true
    },
    "kernelspec": {
      "name": "python3",
      "display_name": "Python 3"
    },
    "accelerator": "GPU"
  },
  "cells": [
    {
      "cell_type": "markdown",
      "metadata": {
        "id": "view-in-github",
        "colab_type": "text"
      },
      "source": [
        "<a href=\"https://colab.research.google.com/github/nikitakaraevv/reinforcement-learning-algorithms/blob/master/Deep%20Q-Learning/Pong_DQN.ipynb\" target=\"_parent\"><img src=\"https://colab.research.google.com/assets/colab-badge.svg\" alt=\"Open In Colab\"/></a>"
      ]
    },
    {
      "cell_type": "code",
      "metadata": {
        "id": "kpDXsfgrl7H_",
        "colab_type": "code",
        "outputId": "a28d4e83-833a-4efb-90f8-696ceadf0eb7",
        "colab": {
          "base_uri": "https://localhost:8080/",
          "height": 530
        }
      },
      "source": [
        "!pip install gym pyvirtualdisplay > /dev/null 2>&1\n",
        "!apt-get install -y xvfb python-opengl ffmpeg > /dev/null 2>&1\n",
        "!apt-get update > /dev/null 2>&1\n",
        "!apt-get install cmake > /dev/null 2>&1\n",
        "!pip install — upgrade setuptools 2>&1\n",
        "!pip install ez_setup > /dev/null 2>&1\n",
        "!pip install gym[atari] > /dev/null 2>&1\n",
        "!pip install pyvirtualdisplay\n",
        "!pip install piglet\n",
        "!apt-get install python-opengl -y\n",
        "!apt install xvfb -y"
      ],
      "execution_count": 1,
      "outputs": [
        {
          "output_type": "stream",
          "text": [
            "\u001b[31mERROR: Invalid requirement: '—'\u001b[0m\n",
            "Requirement already satisfied: pyvirtualdisplay in /usr/local/lib/python3.6/dist-packages (0.2.5)\n",
            "Requirement already satisfied: EasyProcess in /usr/local/lib/python3.6/dist-packages (from pyvirtualdisplay) (0.2.10)\n",
            "Collecting piglet\n",
            "  Downloading https://files.pythonhosted.org/packages/11/56/6840e5f45626dc7eb7cd5dff57d11880b3113723b3b7b1fb1fa537855b75/piglet-1.0.0-py2.py3-none-any.whl\n",
            "Collecting piglet-templates\n",
            "\u001b[?25l  Downloading https://files.pythonhosted.org/packages/ed/02/8ff42edafaa1bdff3563f2bd5acb0f1cdc400ab0743f8cc71c463ea9bf9a/piglet_templates-0.5.1-py2.py3-none-any.whl (63kB)\n",
            "\u001b[K     |████████████████████████████████| 71kB 11.6MB/s \n",
            "\u001b[?25hCollecting astunparse\n",
            "  Downloading https://files.pythonhosted.org/packages/2b/03/13dde6512ad7b4557eb792fbcf0c653af6076b81e5941d36ec61f7ce6028/astunparse-1.6.3-py2.py3-none-any.whl\n",
            "Collecting Parsley\n",
            "\u001b[?25l  Downloading https://files.pythonhosted.org/packages/2b/d6/4fed8d65e28a970e1c5cb33ce9c7e22e3de745e1b2ae37af051ef16aea3b/Parsley-1.3-py2.py3-none-any.whl (88kB)\n",
            "\u001b[K     |████████████████████████████████| 92kB 13.1MB/s \n",
            "\u001b[?25hRequirement already satisfied: attrs in /usr/local/lib/python3.6/dist-packages (from piglet-templates->piglet) (19.3.0)\n",
            "Requirement already satisfied: markupsafe in /usr/local/lib/python3.6/dist-packages (from piglet-templates->piglet) (1.1.1)\n",
            "Requirement already satisfied: wheel<1.0,>=0.23.0 in /usr/local/lib/python3.6/dist-packages (from astunparse->piglet-templates->piglet) (0.34.2)\n",
            "Requirement already satisfied: six<2.0,>=1.6.1 in /usr/local/lib/python3.6/dist-packages (from astunparse->piglet-templates->piglet) (1.12.0)\n",
            "Installing collected packages: astunparse, Parsley, piglet-templates, piglet\n",
            "Successfully installed Parsley-1.3 astunparse-1.6.3 piglet-1.0.0 piglet-templates-0.5.1\n",
            "Reading package lists... Done\n",
            "Building dependency tree       \n",
            "Reading state information... Done\n",
            "python-opengl is already the newest version (3.1.0+dfsg-1).\n",
            "0 upgraded, 0 newly installed, 0 to remove and 35 not upgraded.\n",
            "Reading package lists... Done\n",
            "Building dependency tree       \n",
            "Reading state information... Done\n",
            "xvfb is already the newest version (2:1.19.6-1ubuntu4.4).\n",
            "0 upgraded, 0 newly installed, 0 to remove and 35 not upgraded.\n"
          ],
          "name": "stdout"
        }
      ]
    },
    {
      "cell_type": "code",
      "metadata": {
        "id": "LH5lnb2amE-l",
        "colab_type": "code",
        "outputId": "08a0f4bd-eada-412c-8e01-4594afd4c0bc",
        "colab": {
          "base_uri": "https://localhost:8080/",
          "height": 71
        }
      },
      "source": [
        "import numpy as np\n",
        "import gym\n",
        "from gym import logger as gymlogger\n",
        "gymlogger.set_level(40) #error only\n",
        "from gym.wrappers import Monitor\n",
        "from itertools import count\n",
        "\n",
        "import random\n",
        "import matplotlib\n",
        "import matplotlib.pyplot as plt\n",
        "import torch\n",
        "import torch.nn as nn\n",
        "import torch.nn.functional as F\n",
        "import torch.optim as optim\n",
        "from torch.distributions import Categorical\n",
        "from torch.autograd import Variable\n",
        "\n",
        "%matplotlib inline\n",
        "import math\n",
        "import glob\n",
        "import io\n",
        "import os\n",
        "import base64\n",
        "from IPython.display import HTML\n",
        "from IPython import display as ipythondisplay\n",
        "from pyvirtualdisplay import Display\n",
        "display = Display(visible=0, size=(1400, 900))\n",
        "display.start()\n"
      ],
      "execution_count": 2,
      "outputs": [
        {
          "output_type": "stream",
          "text": [
            "xdpyinfo was not found, X start can not be checked! Please install xdpyinfo!\n"
          ],
          "name": "stderr"
        },
        {
          "output_type": "execute_result",
          "data": {
            "text/plain": [
              "<Display cmd_param=['Xvfb', '-br', '-nolisten', 'tcp', '-screen', '0', '1400x900x24', ':1001'] cmd=['Xvfb', '-br', '-nolisten', 'tcp', '-screen', '0', '1400x900x24', ':1001'] oserror=None return_code=None stdout=\"None\" stderr=\"None\" timeout_happened=False>"
            ]
          },
          "metadata": {
            "tags": []
          },
          "execution_count": 2
        }
      ]
    },
    {
      "cell_type": "code",
      "metadata": {
        "id": "YGbWZbgL25eU",
        "colab_type": "code",
        "outputId": "5dc5def4-4450-4e39-b471-6bd09defaf85",
        "colab": {
          "base_uri": "https://localhost:8080/",
          "height": 85
        }
      },
      "source": [
        "!git clone https://github.com/higgsfield/RL-Adventure"
      ],
      "execution_count": 3,
      "outputs": [
        {
          "output_type": "stream",
          "text": [
            "Cloning into 'RL-Adventure'...\n",
            "remote: Enumerating objects: 55, done.\u001b[K\n",
            "Unpacking objects:   1% (1/55)   \rUnpacking objects:   3% (2/55)   \rUnpacking objects:   5% (3/55)   \rUnpacking objects:   7% (4/55)   \rUnpacking objects:   9% (5/55)   \rUnpacking objects:  10% (6/55)   \rUnpacking objects:  12% (7/55)   \rUnpacking objects:  14% (8/55)   \rUnpacking objects:  16% (9/55)   \rUnpacking objects:  18% (10/55)   \rUnpacking objects:  20% (11/55)   \rUnpacking objects:  21% (12/55)   \rUnpacking objects:  23% (13/55)   \rUnpacking objects:  25% (14/55)   \rUnpacking objects:  27% (15/55)   \rUnpacking objects:  29% (16/55)   \rUnpacking objects:  30% (17/55)   \rUnpacking objects:  32% (18/55)   \rUnpacking objects:  34% (19/55)   \rUnpacking objects:  36% (20/55)   \rUnpacking objects:  38% (21/55)   \rUnpacking objects:  40% (22/55)   \rUnpacking objects:  41% (23/55)   \rUnpacking objects:  43% (24/55)   \rUnpacking objects:  45% (25/55)   \rUnpacking objects:  47% (26/55)   \rUnpacking objects:  49% (27/55)   \rUnpacking objects:  50% (28/55)   \rUnpacking objects:  52% (29/55)   \rUnpacking objects:  54% (30/55)   \rUnpacking objects:  56% (31/55)   \rUnpacking objects:  58% (32/55)   \rUnpacking objects:  60% (33/55)   \rUnpacking objects:  61% (34/55)   \rUnpacking objects:  63% (35/55)   \rUnpacking objects:  65% (36/55)   \rremote: Total 55 (delta 0), reused 0 (delta 0), pack-reused 55\u001b[K\n",
            "Unpacking objects:  67% (37/55)   \rUnpacking objects:  69% (38/55)   \rUnpacking objects:  70% (39/55)   \rUnpacking objects:  72% (40/55)   \rUnpacking objects:  74% (41/55)   \rUnpacking objects:  76% (42/55)   \rUnpacking objects:  78% (43/55)   \rUnpacking objects:  80% (44/55)   \rUnpacking objects:  81% (45/55)   \rUnpacking objects:  83% (46/55)   \rUnpacking objects:  85% (47/55)   \rUnpacking objects:  87% (48/55)   \rUnpacking objects:  89% (49/55)   \rUnpacking objects:  90% (50/55)   \rUnpacking objects:  92% (51/55)   \rUnpacking objects:  94% (52/55)   \rUnpacking objects:  96% (53/55)   \rUnpacking objects:  98% (54/55)   \rUnpacking objects: 100% (55/55)   \rUnpacking objects: 100% (55/55), done.\n"
          ],
          "name": "stdout"
        }
      ]
    },
    {
      "cell_type": "code",
      "metadata": {
        "id": "Bar0nuhM28Qp",
        "colab_type": "code",
        "colab": {}
      },
      "source": [
        "import sys\n",
        "sys.path.append('RL-Adventure')\n",
        "sys.path.append('RL-Adventure/common')"
      ],
      "execution_count": 0,
      "outputs": []
    },
    {
      "cell_type": "code",
      "metadata": {
        "id": "BWFiHEGzmNQq",
        "colab_type": "code",
        "colab": {}
      },
      "source": [
        "\"\"\"\n",
        "Utility functions to enable video recording of gym environment and displaying it\n",
        "To enable video, just do \"env = wrap_env(env)\"\"\n",
        "\"\"\"\n",
        "def show_video():\n",
        "  mp4list = glob.glob('video/*.mp4')\n",
        "  if len(mp4list) > 0:\n",
        "    mp4 = mp4list[0]\n",
        "    video = io.open(mp4, 'r+b').read()\n",
        "    encoded = base64.b64encode(video)\n",
        "    ipythondisplay.display(HTML(data='''<video alt=\"test\" autoplay \n",
        "                loop controls style=\"height: 400px;\">\n",
        "                <source src=\"data:video/mp4;base64,{0}\" type=\"video/mp4\" />\n",
        "             </video>'''.format(encoded.decode('ascii'))))\n",
        "  else: \n",
        "    print(\"Could not find video\")\n",
        "\n",
        "def wrap_env(env):\n",
        "  env = Monitor(env, './video', force=True)\n",
        "  return env\n",
        "    "
      ],
      "execution_count": 0,
      "outputs": []
    },
    {
      "cell_type": "markdown",
      "metadata": {
        "id": "SOkXel_OBPjM",
        "colab_type": "text"
      },
      "source": [
        "## Random agent"
      ]
    },
    {
      "cell_type": "code",
      "metadata": {
        "id": "UH16cMNe3OwD",
        "colab_type": "code",
        "colab": {}
      },
      "source": [
        "from common.wrappers import make_atari, wrap_deepmind, wrap_pytorch"
      ],
      "execution_count": 0,
      "outputs": []
    },
    {
      "cell_type": "code",
      "metadata": {
        "id": "nyjpQDY11aT9",
        "colab_type": "code",
        "colab": {}
      },
      "source": [
        "env_id = \"PongNoFrameskip-v4\"\n",
        "env    = make_atari(env_id)\n",
        "env    = wrap_deepmind(env)\n",
        "env    = wrap_pytorch(env)"
      ],
      "execution_count": 0,
      "outputs": []
    },
    {
      "cell_type": "code",
      "metadata": {
        "id": "yoZ5W7s--AcN",
        "colab_type": "code",
        "outputId": "2daa6512-6de3-405b-af69-459d85dbe294",
        "colab": {
          "base_uri": "https://localhost:8080/",
          "height": 421
        }
      },
      "source": [
        "env = wrap_env(env)\n",
        "observation = env.reset()\n",
        "new_observation = observation\n",
        "prev_input = None\n",
        "done = False\n",
        "\n",
        "for _ in range(1000):\n",
        "    action = random.randint(1,3)\n",
        "    new_observation, reward, done, info = env.step(action)\n",
        "    if done: break  \n",
        "env.close()\n",
        "show_video()"
      ],
      "execution_count": 8,
      "outputs": [
        {
          "output_type": "display_data",
          "data": {
            "text/html": [
              "<video alt=\"test\" autoplay \n",
              "                loop controls style=\"height: 400px;\">\n",
              "                <source src=\"data:video/mp4;base64,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\" type=\"video/mp4\" />\n",
              "             </video>"
            ],
            "text/plain": [
              "<IPython.core.display.HTML object>"
            ]
          },
          "metadata": {
            "tags": []
          }
        }
      ]
    },
    {
      "cell_type": "code",
      "metadata": {
        "id": "DNI7Ai3ysTYo",
        "colab_type": "code",
        "outputId": "23dfff32-2c18-41e9-a242-cf2b0f802864",
        "colab": {
          "base_uri": "https://localhost:8080/",
          "height": 285
        }
      },
      "source": [
        "plt.imshow(new_observation[0])"
      ],
      "execution_count": 9,
      "outputs": [
        {
          "output_type": "execute_result",
          "data": {
            "text/plain": [
              "<matplotlib.image.AxesImage at 0x7fa3dafdfa20>"
            ]
          },
          "metadata": {
            "tags": []
          },
          "execution_count": 9
        },
        {
          "output_type": "display_data",
          "data": {
            "image/png": "[encoded data removed]",
            "text/plain": [
              "<Figure size 432x288 with 1 Axes>"
            ]
          },
          "metadata": {
            "tags": []
          }
        }
      ]
    },
    {
      "cell_type": "code",
      "metadata": {
        "id": "QpAJCOB-upHB",
        "colab_type": "code",
        "outputId": "53fc9ef1-8262-4e91-c2d2-a58d2ee8e538",
        "colab": {
          "base_uri": "https://localhost:8080/",
          "height": 122
        }
      },
      "source": [
        "from google.colab import drive\n",
        "drive.mount('/content/drive')"
      ],
      "execution_count": 10,
      "outputs": [
        {
          "output_type": "stream",
          "text": [
            "Go to this URL in a browser: https://accounts.google.com/o/oauth2/auth?client_id=947318989803-6bn6qk8qdgf4n4g3pfee6491hc0brc4i.apps.googleusercontent.com&redirect_uri=urn%3aietf%3awg%3aoauth%3a2.0%3aoob&response_type=code&scope=email%20https%3a%2f%2fwww.googleapis.com%2fauth%2fdocs.test%20https%3a%2f%2fwww.googleapis.com%2fauth%2fdrive%20https%3a%2f%2fwww.googleapis.com%2fauth%2fdrive.photos.readonly%20https%3a%2f%2fwww.googleapis.com%2fauth%2fpeopleapi.readonly\n",
            "\n",
            "Enter your authorization code:\n",
            "··········\n",
            "Mounted at /content/drive\n"
          ],
          "name": "stdout"
        }
      ]
    },
    {
      "cell_type": "code",
      "metadata": {
        "id": "omUYz5V0vRtX",
        "colab_type": "code",
        "colab": {}
      },
      "source": [
        "data_path = \"/content/drive/My Drive/PongDQN\""
      ],
      "execution_count": 0,
      "outputs": []
    },
    {
      "cell_type": "markdown",
      "metadata": {
        "id": "-6ga4-PoBSUG",
        "colab_type": "text"
      },
      "source": [
        "## DQN model"
      ]
    },
    {
      "cell_type": "code",
      "metadata": {
        "id": "sqmkcoxoqXvr",
        "colab_type": "code",
        "colab": {}
      },
      "source": [
        "from IPython.display import clear_output\n",
        "from collections import namedtuple"
      ],
      "execution_count": 0,
      "outputs": []
    },
    {
      "cell_type": "code",
      "metadata": {
        "id": "rvoYufo6p7o2",
        "colab_type": "code",
        "colab": {}
      },
      "source": [
        "from collections import deque\n",
        "class ReplayBuffer(object):\n",
        "    def __init__(self, capacity):\n",
        "        self.buffer = deque(maxlen=capacity)\n",
        "    \n",
        "    def push(self, state, action, reward, next_state, done):\n",
        "        state      = np.expand_dims(state, 0)\n",
        "        next_state = np.expand_dims(next_state, 0)\n",
        "            \n",
        "        self.buffer.append((state, action, reward, next_state, done))\n",
        "    \n",
        "    def sample(self, batch_size):\n",
        "        state, action, reward, next_state, done = zip(*random.sample(self.buffer, batch_size))\n",
        "        return np.concatenate(state), action, reward, np.concatenate(next_state), done\n",
        "    \n",
        "    def __len__(self):\n",
        "        return len(self.buffer)"
      ],
      "execution_count": 0,
      "outputs": []
    },
    {
      "cell_type": "code",
      "metadata": {
        "id": "Cz6aXvZm6itw",
        "colab_type": "code",
        "colab": {}
      },
      "source": [
        "class DQN(nn.Module):\n",
        "    def __init__(self, input_shape, num_actions):\n",
        "        super(DQN, self).__init__()\n",
        "        self.input_shape = input_shape\n",
        "        self.num_actions = num_actions\n",
        "\n",
        "        self.conv1 = nn.Conv2d(self.input_shape[0], 32, kernel_size=8, stride=4)\n",
        "        self.conv2 = nn.Conv2d(32, 64, kernel_size=4, stride=2)\n",
        "        self.conv3 = nn.Conv2d(64, 64, kernel_size=3, stride=1)\n",
        "        \n",
        "        self.lin1 = nn.Linear(self.feature_size(), 512)\n",
        "        self.lin2 = nn.Linear(512, self.num_actions)\n",
        "        \n",
        "    def forward(self, x):\n",
        "        x = F.relu(self.conv1(x))\n",
        "        x = F.relu(self.conv2(x))\n",
        "        x = F.relu(self.conv3(x))\n",
        "        \n",
        "        x = F.relu(self.lin1(x.view(x.size(0), -1)))\n",
        "        return self.lin2(x)\n",
        "    \n",
        "    def feature_size(self):\n",
        "        return self.conv3(self.conv2(self.conv1(Variable(torch.zeros(1, *self.input_shape))))).view(1, -1).size(1)\n",
        "\n",
        "    def act(self, state, epsilon):\n",
        "        if random.random() > epsilon:\n",
        "            with torch.no_grad():\n",
        "              state   = Variable(torch.FloatTensor(np.float32(state)).unsqueeze(0)).to(device)\n",
        "              q_value = self.forward(state)\n",
        "              action  = q_value.max(1)[1].data[0]\n",
        "        else:\n",
        "            action = random.randrange(env.action_space.n)\n",
        "        return action\n"
      ],
      "execution_count": 0,
      "outputs": []
    },
    {
      "cell_type": "code",
      "metadata": {
        "id": "4WGMwpSF7M1o",
        "colab_type": "code",
        "colab": {}
      },
      "source": [
        "def compute_td_loss(batch_size):\n",
        "    state, action, reward, next_state, done = replay_buffer.sample(batch_size)\n",
        "\n",
        "    state      = Variable(torch.FloatTensor(np.float32(state))).to(device)\n",
        "    next_state = Variable(torch.FloatTensor(np.float32(next_state))).to(device)\n",
        "    action     = Variable(torch.LongTensor(action)).to(device)\n",
        "    reward     = Variable(torch.FloatTensor(reward)).to(device)\n",
        "    done       = Variable(torch.FloatTensor(done)).to(device)\n",
        "\n",
        "    q_values      = model(state)\n",
        "    next_q_values = model(next_state)\n",
        "\n",
        "    q_value          = q_values.gather(1, action.unsqueeze(1)).squeeze(1)\n",
        "    next_q_value     = next_q_values.max(1)[0]\n",
        "    expected_q_value = reward + GAMMA * next_q_value * (1 - done)\n",
        "    \n",
        "    loss = (q_value - Variable(expected_q_value.data).to(device)).pow(2).mean()\n",
        "        \n",
        "    optimizer.zero_grad()\n",
        "    loss.backward()\n",
        "    optimizer.step()\n",
        "    \n",
        "    return loss"
      ],
      "execution_count": 0,
      "outputs": []
    },
    {
      "cell_type": "code",
      "metadata": {
        "id": "Rqg6vqL_7PD8",
        "colab_type": "code",
        "colab": {}
      },
      "source": [
        "def plot(frame_idx, rewards, losses):\n",
        "    clear_output(True)\n",
        "    plt.figure(figsize=(20,5))\n",
        "    plt.subplot(131)\n",
        "    plt.title('frame %s. reward: %s' % (frame_idx, np.mean(rewards[-10:])))\n",
        "    plt.plot(rewards)\n",
        "    plt.subplot(132)\n",
        "    plt.title('loss')\n",
        "    plt.plot(losses)\n",
        "    plt.show()"
      ],
      "execution_count": 0,
      "outputs": []
    },
    {
      "cell_type": "markdown",
      "metadata": {
        "id": "jC6ajWGY9O0N",
        "colab_type": "text"
      },
      "source": [
        "## Define the parameters"
      ]
    },
    {
      "cell_type": "code",
      "metadata": {
        "id": "r8aaNiEA66yV",
        "colab_type": "code",
        "outputId": "5a90a8e9-9db2-4d24-e8cf-9f3a271bb711",
        "colab": {
          "base_uri": "https://localhost:8080/",
          "height": 34
        }
      },
      "source": [
        "device = torch.device(\"cuda\" if torch.cuda.is_available() else \"cpu\");\n",
        "device"
      ],
      "execution_count": 51,
      "outputs": [
        {
          "output_type": "execute_result",
          "data": {
            "text/plain": [
              "device(type='cuda')"
            ]
          },
          "metadata": {
            "tags": []
          },
          "execution_count": 51
        }
      ]
    },
    {
      "cell_type": "code",
      "metadata": {
        "id": "iJwHnV2z7XQc",
        "colab_type": "code",
        "colab": {}
      },
      "source": [
        "TRAINING_START = 10000\n",
        "EPS_START = 1.0\n",
        "EPS_FINAL = 0.01\n",
        "EPS_DECAY = 30000\n",
        "MEMORY_SIZE = 100000\n",
        "LR = 0.00001\n",
        "NUM_FRAMES = 1400000\n",
        "BATCH_SIZE = 32\n",
        "GAMMA      = 0.99"
      ],
      "execution_count": 0,
      "outputs": []
    },
    {
      "cell_type": "code",
      "metadata": {
        "id": "iqtca9dO6ky9",
        "colab_type": "code",
        "colab": {}
      },
      "source": [
        "model = DQN(env.observation_space.shape, env.action_space.n)\n",
        "model = model.to(device)\n",
        "    \n",
        "optimizer = optim.Adam(model.parameters(), lr=LR)\n",
        "\n",
        "replay_buffer = ReplayBuffer(MEMORY_SIZE)"
      ],
      "execution_count": 0,
      "outputs": []
    },
    {
      "cell_type": "code",
      "metadata": {
        "id": "ax-_k2sl6mvf",
        "colab_type": "code",
        "colab": {}
      },
      "source": [
        "epsilon_by_frame = lambda frame_idx: EPS_FINAL + (EPS_START - EPS_FINAL) * math.exp(-1. * frame_idx / EPS_DECAY)"
      ],
      "execution_count": 0,
      "outputs": []
    },
    {
      "cell_type": "code",
      "metadata": {
        "id": "p4LnWRc46o4Z",
        "colab_type": "code",
        "outputId": "13465b0e-c3e6-4c40-d9c5-54289103008c",
        "colab": {
          "base_uri": "https://localhost:8080/",
          "height": 295
        }
      },
      "source": [
        "plt.plot([epsilon_by_frame(i) for i in range(1000000)])"
      ],
      "execution_count": 55,
      "outputs": [
        {
          "output_type": "execute_result",
          "data": {
            "text/plain": [
              "[<matplotlib.lines.Line2D at 0x7fa3be09bb00>]"
            ]
          },
          "metadata": {
            "tags": []
          },
          "execution_count": 55
        },
        {
          "output_type": "display_data",
          "data": {
            "image/png": "[encoded data removed]",
            "text/plain": [
              "<Figure size 432x288 with 1 Axes>"
            ]
          },
          "metadata": {
            "tags": []
          }
        }
      ]
    },
    {
      "cell_type": "code",
      "metadata": {
        "id": "0WjFNxN58DHm",
        "colab_type": "code",
        "colab": {}
      },
      "source": [
        "def running_mean(x, N):\n",
        "    cumsum = np.cumsum(np.insert(x, 0, 0)) \n",
        "    return (cumsum[N:] - cumsum[:-N]) / float(N)"
      ],
      "execution_count": 0,
      "outputs": []
    },
    {
      "cell_type": "markdown",
      "metadata": {
        "id": "U-aLzY-g9Kga",
        "colab_type": "text"
      },
      "source": [
        "## Train the model"
      ]
    },
    {
      "cell_type": "code",
      "metadata": {
        "id": "8a4cvAvL6sgB",
        "colab_type": "code",
        "outputId": "fe0ad97f-80c7-4f3e-91a3-a2c31cd4544c",
        "colab": {
          "base_uri": "https://localhost:8080/",
          "height": 683
        }
      },
      "source": [
        "losses = []\n",
        "all_rewards = []\n",
        "episode_reward = 0\n",
        "\n",
        "state = env.reset()\n",
        "for frame_idx in range(1, NUM_FRAMES + 1):\n",
        "    epsilon = epsilon_by_frame(frame_idx)\n",
        "    action = model.act(state, epsilon)\n",
        "    \n",
        "    next_state, reward, done, _ = env.step(action)\n",
        "    replay_buffer.push(state, action, reward, next_state, done)\n",
        "    \n",
        "    state = next_state\n",
        "    episode_reward += reward\n",
        "    \n",
        "    if done:\n",
        "        state = env.reset()\n",
        "        all_rewards.append(episode_reward)\n",
        "        episode_reward = 0\n",
        "        \n",
        "    if len(replay_buffer) > replay_initial:\n",
        "        loss = compute_td_loss(BATCH_SIZE)\n",
        "        losses.append(loss.item())\n",
        "        \n",
        "    if frame_idx % 10000 == 0:\n",
        "        plot(frame_idx, running_mean(all_rewards,30), running_mean(losses,30))"
      ],
      "execution_count": 57,
      "outputs": [
        {
          "output_type": "display_data",
          "data": {
            "image/png": "[encoded data removed]",
            "text/plain": [
              "<Figure size 1440x360 with 2 Axes>"
            ]
          },
          "metadata": {
            "tags": []
          }
        },
        {
          "output_type": "error",
          "ename": "KeyboardInterrupt",
          "evalue": "ignored",
          "traceback": [
            "\u001b[0;31m---------------------------------------------------------------------------\u001b[0m",
            "\u001b[0;31mKeyboardInterrupt\u001b[0m                         Traceback (most recent call last)",
            "\u001b[0;32m<ipython-input-57-9c27ae36493a>\u001b[0m in \u001b[0;36m<module>\u001b[0;34m()\u001b[0m\n\u001b[1;32m     20\u001b[0m \u001b[0;34m\u001b[0m\u001b[0m\n\u001b[1;32m     21\u001b[0m     \u001b[0;32mif\u001b[0m \u001b[0mlen\u001b[0m\u001b[0;34m(\u001b[0m\u001b[0mreplay_buffer\u001b[0m\u001b[0;34m)\u001b[0m \u001b[0;34m>\u001b[0m \u001b[0mreplay_initial\u001b[0m\u001b[0;34m:\u001b[0m\u001b[0;34m\u001b[0m\u001b[0;34m\u001b[0m\u001b[0m\n\u001b[0;32m---> 22\u001b[0;31m         \u001b[0mloss\u001b[0m \u001b[0;34m=\u001b[0m \u001b[0mcompute_td_loss\u001b[0m\u001b[0;34m(\u001b[0m\u001b[0mBATCH_SIZE\u001b[0m\u001b[0;34m)\u001b[0m\u001b[0;34m\u001b[0m\u001b[0;34m\u001b[0m\u001b[0m\n\u001b[0m\u001b[1;32m     23\u001b[0m         \u001b[0mlosses\u001b[0m\u001b[0;34m.\u001b[0m\u001b[0mappend\u001b[0m\u001b[0;34m(\u001b[0m\u001b[0mloss\u001b[0m\u001b[0;34m.\u001b[0m\u001b[0mitem\u001b[0m\u001b[0;34m(\u001b[0m\u001b[0;34m)\u001b[0m\u001b[0;34m)\u001b[0m\u001b[0;34m\u001b[0m\u001b[0;34m\u001b[0m\u001b[0m\n\u001b[1;32m     24\u001b[0m \u001b[0;34m\u001b[0m\u001b[0m\n",
            "\u001b[0;32m<ipython-input-49-1c36906c0c7c>\u001b[0m in \u001b[0;36mcompute_td_loss\u001b[0;34m(batch_size)\u001b[0m\n\u001b[1;32m      4\u001b[0m     \u001b[0mstate\u001b[0m      \u001b[0;34m=\u001b[0m \u001b[0mVariable\u001b[0m\u001b[0;34m(\u001b[0m\u001b[0mtorch\u001b[0m\u001b[0;34m.\u001b[0m\u001b[0mFloatTensor\u001b[0m\u001b[0;34m(\u001b[0m\u001b[0mnp\u001b[0m\u001b[0;34m.\u001b[0m\u001b[0mfloat32\u001b[0m\u001b[0;34m(\u001b[0m\u001b[0mstate\u001b[0m\u001b[0;34m)\u001b[0m\u001b[0;34m)\u001b[0m\u001b[0;34m)\u001b[0m\u001b[0;34m.\u001b[0m\u001b[0mto\u001b[0m\u001b[0;34m(\u001b[0m\u001b[0mdevice\u001b[0m\u001b[0;34m)\u001b[0m\u001b[0;34m\u001b[0m\u001b[0;34m\u001b[0m\u001b[0m\n\u001b[1;32m      5\u001b[0m     \u001b[0mnext_state\u001b[0m \u001b[0;34m=\u001b[0m \u001b[0mVariable\u001b[0m\u001b[0;34m(\u001b[0m\u001b[0mtorch\u001b[0m\u001b[0;34m.\u001b[0m\u001b[0mFloatTensor\u001b[0m\u001b[0;34m(\u001b[0m\u001b[0mnp\u001b[0m\u001b[0;34m.\u001b[0m\u001b[0mfloat32\u001b[0m\u001b[0;34m(\u001b[0m\u001b[0mnext_state\u001b[0m\u001b[0;34m)\u001b[0m\u001b[0;34m)\u001b[0m\u001b[0;34m)\u001b[0m\u001b[0;34m.\u001b[0m\u001b[0mto\u001b[0m\u001b[0;34m(\u001b[0m\u001b[0mdevice\u001b[0m\u001b[0;34m)\u001b[0m\u001b[0;34m\u001b[0m\u001b[0;34m\u001b[0m\u001b[0m\n\u001b[0;32m----> 6\u001b[0;31m     \u001b[0maction\u001b[0m     \u001b[0;34m=\u001b[0m \u001b[0mVariable\u001b[0m\u001b[0;34m(\u001b[0m\u001b[0mtorch\u001b[0m\u001b[0;34m.\u001b[0m\u001b[0mLongTensor\u001b[0m\u001b[0;34m(\u001b[0m\u001b[0maction\u001b[0m\u001b[0;34m)\u001b[0m\u001b[0;34m)\u001b[0m\u001b[0;34m.\u001b[0m\u001b[0mto\u001b[0m\u001b[0;34m(\u001b[0m\u001b[0mdevice\u001b[0m\u001b[0;34m)\u001b[0m\u001b[0;34m\u001b[0m\u001b[0;34m\u001b[0m\u001b[0m\n\u001b[0m\u001b[1;32m      7\u001b[0m     \u001b[0mreward\u001b[0m     \u001b[0;34m=\u001b[0m \u001b[0mVariable\u001b[0m\u001b[0;34m(\u001b[0m\u001b[0mtorch\u001b[0m\u001b[0;34m.\u001b[0m\u001b[0mFloatTensor\u001b[0m\u001b[0;34m(\u001b[0m\u001b[0mreward\u001b[0m\u001b[0;34m)\u001b[0m\u001b[0;34m)\u001b[0m\u001b[0;34m.\u001b[0m\u001b[0mto\u001b[0m\u001b[0;34m(\u001b[0m\u001b[0mdevice\u001b[0m\u001b[0;34m)\u001b[0m\u001b[0;34m\u001b[0m\u001b[0;34m\u001b[0m\u001b[0m\n\u001b[1;32m      8\u001b[0m     \u001b[0mdone\u001b[0m       \u001b[0;34m=\u001b[0m \u001b[0mVariable\u001b[0m\u001b[0;34m(\u001b[0m\u001b[0mtorch\u001b[0m\u001b[0;34m.\u001b[0m\u001b[0mFloatTensor\u001b[0m\u001b[0;34m(\u001b[0m\u001b[0mdone\u001b[0m\u001b[0;34m)\u001b[0m\u001b[0;34m)\u001b[0m\u001b[0;34m.\u001b[0m\u001b[0mto\u001b[0m\u001b[0;34m(\u001b[0m\u001b[0mdevice\u001b[0m\u001b[0;34m)\u001b[0m\u001b[0;34m\u001b[0m\u001b[0;34m\u001b[0m\u001b[0m\n",
            "\u001b[0;31mKeyboardInterrupt\u001b[0m: "
          ]
        }
      ]
    },
    {
      "cell_type": "markdown",
      "metadata": {
        "id": "pTp6uy_T8-ah",
        "colab_type": "text"
      },
      "source": [
        "## Save / restore models"
      ]
    },
    {
      "cell_type": "code",
      "metadata": {
        "id": "fZDAqyL5B0we",
        "colab_type": "code",
        "colab": {
          "base_uri": "https://localhost:8080/",
          "height": 34
        },
        "outputId": "d96d122c-47e8-4b95-a1d2-34c86949b874"
      },
      "source": [
        "state = {\n",
        "          'model': model.state_dict(),\n",
        "          'optimizer': optimizer.state_dict(),\n",
        "          'history': all_rewards,\n",
        "        }\n",
        "save_path = os.path.join(data_path, 'log.pkl')\n",
        "torch.save(state, save_path)\n",
        "print(f\"Saved model parametets to {save_path}\")"
      ],
      "execution_count": 81,
      "outputs": [
        {
          "output_type": "stream",
          "text": [
            "Saved model parametets to /content/drive/My Drive/PongDQN/log.pkl\n"
          ],
          "name": "stdout"
        }
      ]
    },
    {
      "cell_type": "code",
      "metadata": {
        "id": "PAsX4o4qJqjF",
        "colab_type": "code",
        "colab": {
          "base_uri": "https://localhost:8080/",
          "height": 34
        },
        "outputId": "99ee8675-762d-403f-c548-1ba8ff5a4166"
      },
      "source": [
        "restore_path = os.path.join(data_path, 'trained_net.pkl')\n",
        "if os.path.isfile(restore_path):\n",
        "    print(f\"Load Policy Network parametets from {restore_path}\")\n",
        "    state = torch.load(restore_path)\n",
        "    model.load_state_dict(state['model'])\n",
        "    optimizer.load_state_dict(state['optimizer'])\n",
        "    all_rewards1 = state['history']\n",
        "else:\n",
        "    print('There is no checkpoint to restore!')"
      ],
      "execution_count": 101,
      "outputs": [
        {
          "output_type": "stream",
          "text": [
            "Load Policy Network parametets from /content/drive/My Drive/PongDQN/trained_net.pkl\n"
          ],
          "name": "stdout"
        }
      ]
    },
    {
      "cell_type": "markdown",
      "metadata": {
        "id": "O_kmO0Sq9Ajg",
        "colab_type": "text"
      },
      "source": [
        "## Plot the results"
      ]
    },
    {
      "cell_type": "code",
      "metadata": {
        "id": "bvQu007W9F0v",
        "colab_type": "code",
        "colab": {}
      },
      "source": [
        "import matplotlib as mpl\n",
        "mpl.style.use('seaborn')"
      ],
      "execution_count": 0,
      "outputs": []
    },
    {
      "cell_type": "code",
      "metadata": {
        "id": "swpO87vv0kLC",
        "colab_type": "code",
        "colab": {
          "base_uri": "https://localhost:8080/",
          "height": 364
        },
        "outputId": "326cd443-66c1-4b73-be33-a8f99560aee9"
      },
      "source": [
        "plt.plot(running_mean(his_dqn1,50), label='DQN run 1')\n",
        "plt.plot(running_mean(his_dqn2,50), label='DQN run 2')\n",
        "plt.plot(running_mean(his_dqn3,50), label='DQN run 3')\n",
        "plt.legend()"
      ],
      "execution_count": 124,
      "outputs": [
        {
          "output_type": "execute_result",
          "data": {
            "text/plain": [
              "<matplotlib.legend.Legend at 0x7f47113bf4e0>"
            ]
          },
          "metadata": {
            "tags": []
          },
          "execution_count": 124
        },
        {
          "output_type": "display_data",
          "data": {
            "image/png": "[encoded data removed]",
            "text/plain": [
              "<Figure size 576x396 with 1 Axes>"
            ]
          },
          "metadata": {
            "tags": []
          }
        }
      ]
    },
    {
      "cell_type": "code",
      "metadata": {
        "colab_type": "code",
        "id": "B1PYT0xf8p1z",
        "colab": {}
      },
      "source": [
        "def show(env, epsilon=0.01, steps=10000):\n",
        "  running_reward=-21\n",
        "  show_env = wrap_env(env)\n",
        "  state = show_env.reset()\n",
        "  obs=[]\n",
        "  for t in range(20000):\n",
        "      obs.append(state)\n",
        "      action = model.act(state, epsilon)\n",
        "  \n",
        "      state, reward, done, _ = env.step(action)\n",
        "      running_reward+=reward\n",
        "      if done: break\n",
        "  print(running_reward)\n",
        "\n",
        "  show_env.close()\n",
        "  show_video()\n",
        "  return obs\n"
      ],
      "execution_count": 0,
      "outputs": []
    },
    {
      "cell_type": "code",
      "metadata": {
        "id": "PkkqdChyPnaY",
        "colab_type": "code",
        "outputId": "29d36a52-68f3-493a-85b8-b8cc69a58469",
        "colab": {
          "base_uri": "https://localhost:8080/",
          "height": 438
        }
      },
      "source": [
        "obs=show(env=env)"
      ],
      "execution_count": 72,
      "outputs": [
        {
          "output_type": "stream",
          "text": [
            "-35.0\n"
          ],
          "name": "stdout"
        },
        {
          "output_type": "display_data",
          "data": {
            "text/html": [
              "<video alt=\"test\" autoplay \n",
              "                loop controls style=\"height: 400px;\">\n",
              "                <source src=\"data:video/mp4;base64,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\" type=\"video/mp4\" />\n",
              "             </video>"
            ],
            "text/plain": [
              "<IPython.core.display.HTML object>"
            ]
          },
          "metadata": {
            "tags": []
          }
        }
      ]
    }
  ]
}
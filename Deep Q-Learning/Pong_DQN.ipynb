{
  "nbformat": 4,
  "nbformat_minor": 0,
  "metadata": {
    "colab": {
      "name": " Pong-DQN.ipynb",
      "provenance": [],
      "collapsed_sections": [],
      "toc_visible": true,
      "include_colab_link": true
    },
    "kernelspec": {
      "name": "python3",
      "display_name": "Python 3"
    },
    "accelerator": "GPU"
  },
  "cells": [
    {
      "cell_type": "markdown",
      "metadata": {
        "id": "view-in-github",
        "colab_type": "text"
      },
      "source": [
        "<a href=\"https://colab.research.google.com/github/nikitakaraevv/reinforcement-learning-algorithms/blob/master/Deep%20Q-Learning/Pong_DQN.ipynb\" target=\"_parent\"><img src=\"https://colab.research.google.com/assets/colab-badge.svg\" alt=\"Open In Colab\"/></a>"
      ]
    },
    {
      "cell_type": "code",
      "metadata": {
        "id": "kpDXsfgrl7H_",
        "colab_type": "code",
        "outputId": "96abec37-d87e-4aa3-a9b6-9a476b009723",
        "colab": {
          "base_uri": "https://localhost:8080/",
          "height": 394
        }
      },
      "source": [
        "!pip install gym pyvirtualdisplay > /dev/null 2>&1\n",
        "!apt-get install -y xvfb python-opengl ffmpeg > /dev/null 2>&1\n",
        "!apt-get update > /dev/null 2>&1\n",
        "!apt-get install cmake > /dev/null 2>&1\n",
        "!pip install — upgrade setuptools 2>&1\n",
        "!pip install ez_setup > /dev/null 2>&1\n",
        "!pip install gym[atari] > /dev/null 2>&1\n",
        "!pip install pyvirtualdisplay\n",
        "!pip install piglet\n",
        "!apt-get install python-opengl -y\n",
        "!apt install xvfb -y"
      ],
      "execution_count": 26,
      "outputs": [
        {
          "output_type": "stream",
          "text": [
            "\u001b[31mERROR: Invalid requirement: '—'\u001b[0m\n",
            "Requirement already satisfied: pyvirtualdisplay in /usr/local/lib/python3.6/dist-packages (0.2.5)\n",
            "Requirement already satisfied: EasyProcess in /usr/local/lib/python3.6/dist-packages (from pyvirtualdisplay) (0.2.10)\n",
            "Requirement already satisfied: piglet in /usr/local/lib/python3.6/dist-packages (1.0.0)\n",
            "Requirement already satisfied: piglet-templates in /usr/local/lib/python3.6/dist-packages (from piglet) (0.5.1)\n",
            "Requirement already satisfied: attrs in /usr/local/lib/python3.6/dist-packages (from piglet-templates->piglet) (19.3.0)\n",
            "Requirement already satisfied: astunparse in /usr/local/lib/python3.6/dist-packages (from piglet-templates->piglet) (1.6.3)\n",
            "Requirement already satisfied: Parsley in /usr/local/lib/python3.6/dist-packages (from piglet-templates->piglet) (1.3)\n",
            "Requirement already satisfied: markupsafe in /usr/local/lib/python3.6/dist-packages (from piglet-templates->piglet) (1.1.1)\n",
            "Requirement already satisfied: six<2.0,>=1.6.1 in /usr/local/lib/python3.6/dist-packages (from astunparse->piglet-templates->piglet) (1.12.0)\n",
            "Requirement already satisfied: wheel<1.0,>=0.23.0 in /usr/local/lib/python3.6/dist-packages (from astunparse->piglet-templates->piglet) (0.34.2)\n",
            "Reading package lists... Done\n",
            "Building dependency tree       \n",
            "Reading state information... Done\n",
            "python-opengl is already the newest version (3.1.0+dfsg-1).\n",
            "0 upgraded, 0 newly installed, 0 to remove and 35 not upgraded.\n",
            "Reading package lists... Done\n",
            "Building dependency tree       \n",
            "Reading state information... Done\n",
            "xvfb is already the newest version (2:1.19.6-1ubuntu4.4).\n",
            "0 upgraded, 0 newly installed, 0 to remove and 35 not upgraded.\n"
          ],
          "name": "stdout"
        }
      ]
    },
    {
      "cell_type": "code",
      "metadata": {
        "id": "LH5lnb2amE-l",
        "colab_type": "code",
        "outputId": "8826c34a-d79f-497a-bd2c-331ee3c0b134",
        "colab": {
          "base_uri": "https://localhost:8080/",
          "height": 71
        }
      },
      "source": [
        "import numpy as np\n",
        "import gym\n",
        "from gym import logger as gymlogger\n",
        "gymlogger.set_level(40) #error only\n",
        "from gym.wrappers import Monitor\n",
        "from itertools import count\n",
        "\n",
        "import random\n",
        "import matplotlib\n",
        "import matplotlib.pyplot as plt\n",
        "import torch\n",
        "import torch.nn as nn\n",
        "import torch.nn.functional as F\n",
        "import torch.optim as optim\n",
        "from torch.distributions import Categorical\n",
        "from torch.autograd import Variable\n",
        "\n",
        "%matplotlib inline\n",
        "import math\n",
        "import glob\n",
        "import io\n",
        "import os\n",
        "import base64\n",
        "from IPython.display import HTML\n",
        "from IPython import display as ipythondisplay\n",
        "from pyvirtualdisplay import Display\n",
        "display = Display(visible=0, size=(1400, 900))\n",
        "display.start()\n"
      ],
      "execution_count": 27,
      "outputs": [
        {
          "output_type": "stream",
          "text": [
            "xdpyinfo was not found, X start can not be checked! Please install xdpyinfo!\n"
          ],
          "name": "stderr"
        },
        {
          "output_type": "execute_result",
          "data": {
            "text/plain": [
              "<Display cmd_param=['Xvfb', '-br', '-nolisten', 'tcp', '-screen', '0', '1400x900x24', ':1009'] cmd=['Xvfb', '-br', '-nolisten', 'tcp', '-screen', '0', '1400x900x24', ':1009'] oserror=None return_code=None stdout=\"None\" stderr=\"None\" timeout_happened=False>"
            ]
          },
          "metadata": {
            "tags": []
          },
          "execution_count": 27
        }
      ]
    },
    {
      "cell_type": "code",
      "metadata": {
        "id": "YGbWZbgL25eU",
        "colab_type": "code",
        "outputId": "7e0eb9e0-e559-490b-b923-7fcee7610664",
        "colab": {
          "base_uri": "https://localhost:8080/",
          "height": 34
        }
      },
      "source": [
        "!git clone https://github.com/higgsfield/RL-Adventure"
      ],
      "execution_count": 28,
      "outputs": [
        {
          "output_type": "stream",
          "text": [
            "fatal: destination path 'RL-Adventure' already exists and is not an empty directory.\n"
          ],
          "name": "stdout"
        }
      ]
    },
    {
      "cell_type": "code",
      "metadata": {
        "id": "Bar0nuhM28Qp",
        "colab_type": "code",
        "colab": {}
      },
      "source": [
        "import sys\n",
        "sys.path.append('RL-Adventure')\n",
        "sys.path.append('RL-Adventure/common')"
      ],
      "execution_count": 0,
      "outputs": []
    },
    {
      "cell_type": "code",
      "metadata": {
        "id": "BWFiHEGzmNQq",
        "colab_type": "code",
        "colab": {}
      },
      "source": [
        "\"\"\"\n",
        "Utility functions to enable video recording of gym environment and displaying it\n",
        "To enable video, just do \"env = wrap_env(env)\"\"\n",
        "\"\"\"\n",
        "def show_video():\n",
        "  mp4list = glob.glob('video/*.mp4')\n",
        "  if len(mp4list) > 0:\n",
        "    mp4 = mp4list[0]\n",
        "    video = io.open(mp4, 'r+b').read()\n",
        "    encoded = base64.b64encode(video)\n",
        "    ipythondisplay.display(HTML(data='''<video alt=\"test\" autoplay \n",
        "                loop controls style=\"height: 400px;\">\n",
        "                <source src=\"data:video/mp4;base64,{0}\" type=\"video/mp4\" />\n",
        "             </video>'''.format(encoded.decode('ascii'))))\n",
        "  else: \n",
        "    print(\"Could not find video\")\n",
        "\n",
        "def wrap_env(env):\n",
        "  env = Monitor(env, './video', force=True)\n",
        "  return env\n",
        "    "
      ],
      "execution_count": 0,
      "outputs": []
    },
    {
      "cell_type": "markdown",
      "metadata": {
        "id": "SOkXel_OBPjM",
        "colab_type": "text"
      },
      "source": [
        "## Random agent"
      ]
    },
    {
      "cell_type": "code",
      "metadata": {
        "id": "UH16cMNe3OwD",
        "colab_type": "code",
        "colab": {}
      },
      "source": [
        "from common.wrappers import make_atari, wrap_deepmind, wrap_pytorch"
      ],
      "execution_count": 0,
      "outputs": []
    },
    {
      "cell_type": "code",
      "metadata": {
        "id": "nyjpQDY11aT9",
        "colab_type": "code",
        "colab": {}
      },
      "source": [
        "env_id = \"PongNoFrameskip-v4\"\n",
        "env    = make_atari(env_id)\n",
        "env    = wrap_deepmind(env)\n",
        "env    = wrap_pytorch(env)"
      ],
      "execution_count": 0,
      "outputs": []
    },
    {
      "cell_type": "code",
      "metadata": {
        "id": "yoZ5W7s--AcN",
        "colab_type": "code",
        "outputId": "8382acad-fe58-4174-a935-d27769e2adc2",
        "colab": {
          "base_uri": "https://localhost:8080/",
          "height": 421
        }
      },
      "source": [
        "env = wrap_env(env)\n",
        "observation = env.reset()\n",
        "new_observation = observation\n",
        "prev_input = None\n",
        "done = False\n",
        "\n",
        "for _ in range(1000):\n",
        "    action = random.randint(1,3)\n",
        "    new_observation, reward, done, info = env.step(action)\n",
        "    if done: break  \n",
        "env.close()\n",
        "show_video()"
      ],
      "execution_count": 33,
      "outputs": [
        {
          "output_type": "display_data",
          "data": {
            "text/html": [
              "<video alt=\"test\" autoplay \n",
              "                loop controls style=\"height: 400px;\">\n",
              "                <source src=\"data:video/mp4;base64,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\" type=\"video/mp4\" />\n",
              "             </video>"
            ],
            "text/plain": [
              "<IPython.core.display.HTML object>"
            ]
          },
          "metadata": {
            "tags": []
          }
        }
      ]
    },
    {
      "cell_type": "code",
      "metadata": {
        "id": "DNI7Ai3ysTYo",
        "colab_type": "code",
        "outputId": "811b84cf-b830-49c7-e70e-dc7bd57d9d3f",
        "colab": {
          "base_uri": "https://localhost:8080/",
          "height": 285
        }
      },
      "source": [
        "plt.imshow(new_observation[0])"
      ],
      "execution_count": 34,
      "outputs": [
        {
          "output_type": "execute_result",
          "data": {
            "text/plain": [
              "<matplotlib.image.AxesImage at 0x7f47384e8d68>"
            ]
          },
          "metadata": {
            "tags": []
          },
          "execution_count": 34
        },
        {
          "output_type": "display_data",
          "data": {
            "image/png": "[encoded data removed]",
            "text/plain": [
              "<Figure size 432x288 with 1 Axes>"
            ]
          },
          "metadata": {
            "tags": []
          }
        }
      ]
    },
    {
      "cell_type": "code",
      "metadata": {
        "id": "QpAJCOB-upHB",
        "colab_type": "code",
        "outputId": "b28d2c97-5c8d-4972-c5a4-4b37a2e62ad6",
        "colab": {
          "base_uri": "https://localhost:8080/",
          "height": 54
        }
      },
      "source": [
        "from google.colab import drive\n",
        "drive.mount('/content/drive')"
      ],
      "execution_count": 35,
      "outputs": [
        {
          "output_type": "stream",
          "text": [
            "Drive already mounted at /content/drive; to attempt to forcibly remount, call drive.mount(\"/content/drive\", force_remount=True).\n"
          ],
          "name": "stdout"
        }
      ]
    },
    {
      "cell_type": "code",
      "metadata": {
        "id": "omUYz5V0vRtX",
        "colab_type": "code",
        "colab": {}
      },
      "source": [
        "data_path = \"/content/drive/My Drive/PongDQN\""
      ],
      "execution_count": 0,
      "outputs": []
    },
    {
      "cell_type": "markdown",
      "metadata": {
        "id": "-6ga4-PoBSUG",
        "colab_type": "text"
      },
      "source": [
        "## DQN model"
      ]
    },
    {
      "cell_type": "code",
      "metadata": {
        "id": "sqmkcoxoqXvr",
        "colab_type": "code",
        "colab": {}
      },
      "source": [
        "from IPython.display import clear_output\n",
        "from collections import namedtuple"
      ],
      "execution_count": 0,
      "outputs": []
    },
    {
      "cell_type": "code",
      "metadata": {
        "id": "rvoYufo6p7o2",
        "colab_type": "code",
        "colab": {}
      },
      "source": [
        "from collections import deque\n",
        "class ReplayBuffer(object):\n",
        "    def __init__(self, capacity):\n",
        "        self.buffer = deque(maxlen=capacity)\n",
        "    \n",
        "    def push(self, state, action, reward, next_state, done):\n",
        "        state      = np.expand_dims(state, 0)\n",
        "        next_state = np.expand_dims(next_state, 0)\n",
        "            \n",
        "        self.buffer.append((state, action, reward, next_state, done))\n",
        "    \n",
        "    def sample(self, batch_size):\n",
        "        state, action, reward, next_state, done = zip(*random.sample(self.buffer, batch_size))\n",
        "        return np.concatenate(state), action, reward, np.concatenate(next_state), done\n",
        "    \n",
        "    def __len__(self):\n",
        "        return len(self.buffer)"
      ],
      "execution_count": 0,
      "outputs": []
    },
    {
      "cell_type": "code",
      "metadata": {
        "id": "Cz6aXvZm6itw",
        "colab_type": "code",
        "colab": {}
      },
      "source": [
        "class CnnDQN(nn.Module):\n",
        "    def __init__(self, input_shape, num_actions):\n",
        "        super(CnnDQN, self).__init__()\n",
        "        \n",
        "        self.input_shape = input_shape\n",
        "        self.num_actions = num_actions\n",
        "        \n",
        "        self.features = nn.Sequential(\n",
        "            nn.Conv2d(input_shape[0], 32, kernel_size=8, stride=4),\n",
        "            nn.ReLU(),\n",
        "            nn.Conv2d(32, 64, kernel_size=4, stride=2),\n",
        "            nn.ReLU(),\n",
        "            nn.Conv2d(64, 64, kernel_size=3, stride=1),\n",
        "            nn.ReLU()\n",
        "        )\n",
        "        \n",
        "        self.fc = nn.Sequential(\n",
        "            nn.Linear(self.feature_size(), 512),\n",
        "            nn.ReLU(),\n",
        "            nn.Linear(512, self.num_actions)\n",
        "        )\n",
        "        \n",
        "    def forward(self, x):\n",
        "        x = self.features(x)\n",
        "        x = x.view(x.size(0), -1)\n",
        "        x = self.fc(x)\n",
        "        return x\n",
        "    \n",
        "    def feature_size(self):\n",
        "        return self.features(Variable(torch.zeros(1, *self.input_shape))).view(1, -1).size(1)\n",
        "    \n",
        "    def act(self, state, epsilon):\n",
        "        if random.random() > epsilon:\n",
        "            with torch.no_grad():\n",
        "              state   = Variable(torch.FloatTensor(np.float32(state)).unsqueeze(0)).to(device)\n",
        "              q_value = self.forward(state)\n",
        "              action  = q_value.max(1)[1].data[0]\n",
        "        else:\n",
        "            action = random.randrange(env.action_space.n)\n",
        "        return action"
      ],
      "execution_count": 0,
      "outputs": []
    },
    {
      "cell_type": "code",
      "metadata": {
        "id": "4WGMwpSF7M1o",
        "colab_type": "code",
        "colab": {}
      },
      "source": [
        "def compute_td_loss(batch_size):\n",
        "    state, action, reward, next_state, done = replay_buffer.sample(batch_size)\n",
        "\n",
        "    state      = Variable(torch.FloatTensor(np.float32(state))).to(device)\n",
        "    next_state = Variable(torch.FloatTensor(np.float32(next_state))).to(device)\n",
        "    action     = Variable(torch.LongTensor(action)).to(device)\n",
        "    reward     = Variable(torch.FloatTensor(reward)).to(device)\n",
        "    done       = Variable(torch.FloatTensor(done)).to(device)\n",
        "\n",
        "    q_values      = model(state)\n",
        "    next_q_values = model(next_state)\n",
        "\n",
        "    q_value          = q_values.gather(1, action.unsqueeze(1)).squeeze(1)\n",
        "    next_q_value     = next_q_values.max(1)[0]\n",
        "    expected_q_value = reward + gamma * next_q_value * (1 - done)\n",
        "    \n",
        "    loss = (q_value - Variable(expected_q_value.data).to(device)).pow(2).mean()\n",
        "        \n",
        "    optimizer.zero_grad()\n",
        "    loss.backward()\n",
        "    optimizer.step()\n",
        "    \n",
        "    return loss"
      ],
      "execution_count": 0,
      "outputs": []
    },
    {
      "cell_type": "code",
      "metadata": {
        "id": "Rqg6vqL_7PD8",
        "colab_type": "code",
        "colab": {}
      },
      "source": [
        "def plot(frame_idx, rewards, losses):\n",
        "    clear_output(True)\n",
        "    plt.figure(figsize=(20,5))\n",
        "    plt.subplot(131)\n",
        "    plt.title('frame %s. reward: %s' % (frame_idx, np.mean(rewards[-10:])))\n",
        "    plt.plot(rewards)\n",
        "    plt.subplot(132)\n",
        "    plt.title('loss')\n",
        "    plt.plot(losses)\n",
        "    plt.show()"
      ],
      "execution_count": 0,
      "outputs": []
    },
    {
      "cell_type": "code",
      "metadata": {
        "id": "r8aaNiEA66yV",
        "colab_type": "code",
        "outputId": "16fd2ab3-3979-49b1-82b9-79b897f99103",
        "colab": {
          "base_uri": "https://localhost:8080/",
          "height": 34
        }
      },
      "source": [
        "device = torch.device(\"cuda\" if torch.cuda.is_available() else \"cpu\");\n",
        "device"
      ],
      "execution_count": 42,
      "outputs": [
        {
          "output_type": "execute_result",
          "data": {
            "text/plain": [
              "device(type='cuda')"
            ]
          },
          "metadata": {
            "tags": []
          },
          "execution_count": 42
        }
      ]
    },
    {
      "cell_type": "code",
      "metadata": {
        "id": "iqtca9dO6ky9",
        "colab_type": "code",
        "colab": {}
      },
      "source": [
        "model = CnnDQN(env.observation_space.shape, env.action_space.n)\n",
        "\n",
        "model = model.to(device)\n",
        "    \n",
        "optimizer = optim.RMSprop(model.parameters(), lr=0.00025)\n",
        "\n",
        "replay_initial = 50000\n",
        "replay_buffer = ReplayBuffer(1000000)"
      ],
      "execution_count": 0,
      "outputs": []
    },
    {
      "cell_type": "code",
      "metadata": {
        "id": "ax-_k2sl6mvf",
        "colab_type": "code",
        "colab": {}
      },
      "source": [
        "epsilon_start = 1.0\n",
        "epsilon_final = 0.1\n",
        "epsilon_decay = 100000\n",
        "\n",
        "epsilon_by_frame = lambda frame_idx: epsilon_final + (epsilon_start - epsilon_final) * math.exp(-1. * frame_idx / epsilon_decay)"
      ],
      "execution_count": 0,
      "outputs": []
    },
    {
      "cell_type": "code",
      "metadata": {
        "id": "p4LnWRc46o4Z",
        "colab_type": "code",
        "outputId": "6367da62-fb76-45cf-d2d1-4b8b9ce21b82",
        "colab": {
          "base_uri": "https://localhost:8080/",
          "height": 295
        }
      },
      "source": [
        "plt.plot([epsilon_by_frame(i) for i in range(1000000)])"
      ],
      "execution_count": 79,
      "outputs": [
        {
          "output_type": "execute_result",
          "data": {
            "text/plain": [
              "[<matplotlib.lines.Line2D at 0x7f4733d532b0>]"
            ]
          },
          "metadata": {
            "tags": []
          },
          "execution_count": 79
        },
        {
          "output_type": "display_data",
          "data": {
            "image/png": "[encoded data removed]",
            "text/plain": [
              "<Figure size 432x288 with 1 Axes>"
            ]
          },
          "metadata": {
            "tags": []
          }
        }
      ]
    },
    {
      "cell_type": "code",
      "metadata": {
        "id": "8a4cvAvL6sgB",
        "colab_type": "code",
        "outputId": "8f1b7008-bd88-48c7-bcc9-dfd76cc7edf4",
        "colab": {
          "base_uri": "https://localhost:8080/",
          "height": 694
        }
      },
      "source": [
        "num_frames = 1400000\n",
        "batch_size = 32\n",
        "gamma      = 0.99\n",
        "\n",
        "losses = []\n",
        "all_rewards = []\n",
        "episode_reward = 0\n",
        "\n",
        "state = env.reset()\n",
        "for frame_idx in range(1, num_frames + 1):\n",
        "    epsilon = epsilon_by_frame(frame_idx)\n",
        "    action = model.act(state, epsilon)\n",
        "    \n",
        "    next_state, reward, done, _ = env.step(action)\n",
        "    replay_buffer.push(state, action, reward, next_state, done)\n",
        "    \n",
        "    state = next_state\n",
        "    episode_reward += reward\n",
        "    \n",
        "    if done:\n",
        "        state = env.reset()\n",
        "        all_rewards.append(episode_reward)\n",
        "        episode_reward = 0\n",
        "        \n",
        "    if len(replay_buffer) > replay_initial:\n",
        "        loss = compute_td_loss(batch_size)\n",
        "        losses.append(loss.item())\n",
        "        \n",
        "    if frame_idx % 10000 == 0:\n",
        "        plot(frame_idx, all_rewards, losses)"
      ],
      "execution_count": 80,
      "outputs": [
        {
          "output_type": "display_data",
          "data": {
            "image/png": "[encoded data removed]",
            "text/plain": [
              "<Figure size 1440x360 with 2 Axes>"
            ]
          },
          "metadata": {
            "tags": []
          }
        },
        {
          "output_type": "error",
          "ename": "KeyboardInterrupt",
          "evalue": "ignored",
          "traceback": [
            "\u001b[0;31m---------------------------------------------------------------------------\u001b[0m",
            "\u001b[0;31mKeyboardInterrupt\u001b[0m                         Traceback (most recent call last)",
            "\u001b[0;32m<ipython-input-80-b1eb5cdbc215>\u001b[0m in \u001b[0;36m<module>\u001b[0;34m()\u001b[0m\n\u001b[1;32m     12\u001b[0m     \u001b[0maction\u001b[0m \u001b[0;34m=\u001b[0m \u001b[0mmodel\u001b[0m\u001b[0;34m.\u001b[0m\u001b[0mact\u001b[0m\u001b[0;34m(\u001b[0m\u001b[0mstate\u001b[0m\u001b[0;34m,\u001b[0m \u001b[0mepsilon\u001b[0m\u001b[0;34m)\u001b[0m\u001b[0;34m\u001b[0m\u001b[0;34m\u001b[0m\u001b[0m\n\u001b[1;32m     13\u001b[0m \u001b[0;34m\u001b[0m\u001b[0m\n\u001b[0;32m---> 14\u001b[0;31m     \u001b[0mnext_state\u001b[0m\u001b[0;34m,\u001b[0m \u001b[0mreward\u001b[0m\u001b[0;34m,\u001b[0m \u001b[0mdone\u001b[0m\u001b[0;34m,\u001b[0m \u001b[0m_\u001b[0m \u001b[0;34m=\u001b[0m \u001b[0menv\u001b[0m\u001b[0;34m.\u001b[0m\u001b[0mstep\u001b[0m\u001b[0;34m(\u001b[0m\u001b[0maction\u001b[0m\u001b[0;34m)\u001b[0m\u001b[0;34m\u001b[0m\u001b[0;34m\u001b[0m\u001b[0m\n\u001b[0m\u001b[1;32m     15\u001b[0m     \u001b[0mreplay_buffer\u001b[0m\u001b[0;34m.\u001b[0m\u001b[0mpush\u001b[0m\u001b[0;34m(\u001b[0m\u001b[0mstate\u001b[0m\u001b[0;34m,\u001b[0m \u001b[0maction\u001b[0m\u001b[0;34m,\u001b[0m \u001b[0mreward\u001b[0m\u001b[0;34m,\u001b[0m \u001b[0mnext_state\u001b[0m\u001b[0;34m,\u001b[0m \u001b[0mdone\u001b[0m\u001b[0;34m)\u001b[0m\u001b[0;34m\u001b[0m\u001b[0;34m\u001b[0m\u001b[0m\n\u001b[1;32m     16\u001b[0m \u001b[0;34m\u001b[0m\u001b[0m\n",
            "\u001b[0;32m/usr/local/lib/python3.6/dist-packages/gym/core.py\u001b[0m in \u001b[0;36mstep\u001b[0;34m(self, action)\u001b[0m\n\u001b[1;32m    261\u001b[0m \u001b[0;34m\u001b[0m\u001b[0m\n\u001b[1;32m    262\u001b[0m     \u001b[0;32mdef\u001b[0m \u001b[0mstep\u001b[0m\u001b[0;34m(\u001b[0m\u001b[0mself\u001b[0m\u001b[0;34m,\u001b[0m \u001b[0maction\u001b[0m\u001b[0;34m)\u001b[0m\u001b[0;34m:\u001b[0m\u001b[0;34m\u001b[0m\u001b[0;34m\u001b[0m\u001b[0m\n\u001b[0;32m--> 263\u001b[0;31m         \u001b[0mobservation\u001b[0m\u001b[0;34m,\u001b[0m \u001b[0mreward\u001b[0m\u001b[0;34m,\u001b[0m \u001b[0mdone\u001b[0m\u001b[0;34m,\u001b[0m \u001b[0minfo\u001b[0m \u001b[0;34m=\u001b[0m \u001b[0mself\u001b[0m\u001b[0;34m.\u001b[0m\u001b[0menv\u001b[0m\u001b[0;34m.\u001b[0m\u001b[0mstep\u001b[0m\u001b[0;34m(\u001b[0m\u001b[0maction\u001b[0m\u001b[0;34m)\u001b[0m\u001b[0;34m\u001b[0m\u001b[0;34m\u001b[0m\u001b[0m\n\u001b[0m\u001b[1;32m    264\u001b[0m         \u001b[0;32mreturn\u001b[0m \u001b[0mself\u001b[0m\u001b[0;34m.\u001b[0m\u001b[0mobservation\u001b[0m\u001b[0;34m(\u001b[0m\u001b[0mobservation\u001b[0m\u001b[0;34m)\u001b[0m\u001b[0;34m,\u001b[0m \u001b[0mreward\u001b[0m\u001b[0;34m,\u001b[0m \u001b[0mdone\u001b[0m\u001b[0;34m,\u001b[0m \u001b[0minfo\u001b[0m\u001b[0;34m\u001b[0m\u001b[0;34m\u001b[0m\u001b[0m\n\u001b[1;32m    265\u001b[0m \u001b[0;34m\u001b[0m\u001b[0m\n",
            "\u001b[0;32m/usr/local/lib/python3.6/dist-packages/gym/core.py\u001b[0m in \u001b[0;36mstep\u001b[0;34m(self, action)\u001b[0m\n\u001b[1;32m    273\u001b[0m \u001b[0;34m\u001b[0m\u001b[0m\n\u001b[1;32m    274\u001b[0m     \u001b[0;32mdef\u001b[0m \u001b[0mstep\u001b[0m\u001b[0;34m(\u001b[0m\u001b[0mself\u001b[0m\u001b[0;34m,\u001b[0m \u001b[0maction\u001b[0m\u001b[0;34m)\u001b[0m\u001b[0;34m:\u001b[0m\u001b[0;34m\u001b[0m\u001b[0;34m\u001b[0m\u001b[0m\n\u001b[0;32m--> 275\u001b[0;31m         \u001b[0mobservation\u001b[0m\u001b[0;34m,\u001b[0m \u001b[0mreward\u001b[0m\u001b[0;34m,\u001b[0m \u001b[0mdone\u001b[0m\u001b[0;34m,\u001b[0m \u001b[0minfo\u001b[0m \u001b[0;34m=\u001b[0m \u001b[0mself\u001b[0m\u001b[0;34m.\u001b[0m\u001b[0menv\u001b[0m\u001b[0;34m.\u001b[0m\u001b[0mstep\u001b[0m\u001b[0;34m(\u001b[0m\u001b[0maction\u001b[0m\u001b[0;34m)\u001b[0m\u001b[0;34m\u001b[0m\u001b[0;34m\u001b[0m\u001b[0m\n\u001b[0m\u001b[1;32m    276\u001b[0m         \u001b[0;32mreturn\u001b[0m \u001b[0mobservation\u001b[0m\u001b[0;34m,\u001b[0m \u001b[0mself\u001b[0m\u001b[0;34m.\u001b[0m\u001b[0mreward\u001b[0m\u001b[0;34m(\u001b[0m\u001b[0mreward\u001b[0m\u001b[0;34m)\u001b[0m\u001b[0;34m,\u001b[0m \u001b[0mdone\u001b[0m\u001b[0;34m,\u001b[0m \u001b[0minfo\u001b[0m\u001b[0;34m\u001b[0m\u001b[0;34m\u001b[0m\u001b[0m\n\u001b[1;32m    277\u001b[0m \u001b[0;34m\u001b[0m\u001b[0m\n",
            "\u001b[0;32m/usr/local/lib/python3.6/dist-packages/gym/core.py\u001b[0m in \u001b[0;36mstep\u001b[0;34m(self, action)\u001b[0m\n\u001b[1;32m    261\u001b[0m \u001b[0;34m\u001b[0m\u001b[0m\n\u001b[1;32m    262\u001b[0m     \u001b[0;32mdef\u001b[0m \u001b[0mstep\u001b[0m\u001b[0;34m(\u001b[0m\u001b[0mself\u001b[0m\u001b[0;34m,\u001b[0m \u001b[0maction\u001b[0m\u001b[0;34m)\u001b[0m\u001b[0;34m:\u001b[0m\u001b[0;34m\u001b[0m\u001b[0;34m\u001b[0m\u001b[0m\n\u001b[0;32m--> 263\u001b[0;31m         \u001b[0mobservation\u001b[0m\u001b[0;34m,\u001b[0m \u001b[0mreward\u001b[0m\u001b[0;34m,\u001b[0m \u001b[0mdone\u001b[0m\u001b[0;34m,\u001b[0m \u001b[0minfo\u001b[0m \u001b[0;34m=\u001b[0m \u001b[0mself\u001b[0m\u001b[0;34m.\u001b[0m\u001b[0menv\u001b[0m\u001b[0;34m.\u001b[0m\u001b[0mstep\u001b[0m\u001b[0;34m(\u001b[0m\u001b[0maction\u001b[0m\u001b[0;34m)\u001b[0m\u001b[0;34m\u001b[0m\u001b[0;34m\u001b[0m\u001b[0m\n\u001b[0m\u001b[1;32m    264\u001b[0m         \u001b[0;32mreturn\u001b[0m \u001b[0mself\u001b[0m\u001b[0;34m.\u001b[0m\u001b[0mobservation\u001b[0m\u001b[0;34m(\u001b[0m\u001b[0mobservation\u001b[0m\u001b[0;34m)\u001b[0m\u001b[0;34m,\u001b[0m \u001b[0mreward\u001b[0m\u001b[0;34m,\u001b[0m \u001b[0mdone\u001b[0m\u001b[0;34m,\u001b[0m \u001b[0minfo\u001b[0m\u001b[0;34m\u001b[0m\u001b[0;34m\u001b[0m\u001b[0m\n\u001b[1;32m    265\u001b[0m \u001b[0;34m\u001b[0m\u001b[0m\n",
            "\u001b[0;32m/content/RL-Adventure/common/wrappers.py\u001b[0m in \u001b[0;36mstep\u001b[0;34m(self, ac)\u001b[0m\n\u001b[1;32m     53\u001b[0m \u001b[0;34m\u001b[0m\u001b[0m\n\u001b[1;32m     54\u001b[0m     \u001b[0;32mdef\u001b[0m \u001b[0mstep\u001b[0m\u001b[0;34m(\u001b[0m\u001b[0mself\u001b[0m\u001b[0;34m,\u001b[0m \u001b[0mac\u001b[0m\u001b[0;34m)\u001b[0m\u001b[0;34m:\u001b[0m\u001b[0;34m\u001b[0m\u001b[0;34m\u001b[0m\u001b[0m\n\u001b[0;32m---> 55\u001b[0;31m         \u001b[0;32mreturn\u001b[0m \u001b[0mself\u001b[0m\u001b[0;34m.\u001b[0m\u001b[0menv\u001b[0m\u001b[0;34m.\u001b[0m\u001b[0mstep\u001b[0m\u001b[0;34m(\u001b[0m\u001b[0mac\u001b[0m\u001b[0;34m)\u001b[0m\u001b[0;34m\u001b[0m\u001b[0;34m\u001b[0m\u001b[0m\n\u001b[0m\u001b[1;32m     56\u001b[0m \u001b[0;34m\u001b[0m\u001b[0m\n\u001b[1;32m     57\u001b[0m \u001b[0;32mclass\u001b[0m \u001b[0mEpisodicLifeEnv\u001b[0m\u001b[0;34m(\u001b[0m\u001b[0mgym\u001b[0m\u001b[0;34m.\u001b[0m\u001b[0mWrapper\u001b[0m\u001b[0;34m)\u001b[0m\u001b[0;34m:\u001b[0m\u001b[0;34m\u001b[0m\u001b[0;34m\u001b[0m\u001b[0m\n",
            "\u001b[0;32m/content/RL-Adventure/common/wrappers.py\u001b[0m in \u001b[0;36mstep\u001b[0;34m(self, action)\u001b[0m\n\u001b[1;32m     65\u001b[0m \u001b[0;34m\u001b[0m\u001b[0m\n\u001b[1;32m     66\u001b[0m     \u001b[0;32mdef\u001b[0m \u001b[0mstep\u001b[0m\u001b[0;34m(\u001b[0m\u001b[0mself\u001b[0m\u001b[0;34m,\u001b[0m \u001b[0maction\u001b[0m\u001b[0;34m)\u001b[0m\u001b[0;34m:\u001b[0m\u001b[0;34m\u001b[0m\u001b[0;34m\u001b[0m\u001b[0m\n\u001b[0;32m---> 67\u001b[0;31m         \u001b[0mobs\u001b[0m\u001b[0;34m,\u001b[0m \u001b[0mreward\u001b[0m\u001b[0;34m,\u001b[0m \u001b[0mdone\u001b[0m\u001b[0;34m,\u001b[0m \u001b[0minfo\u001b[0m \u001b[0;34m=\u001b[0m \u001b[0mself\u001b[0m\u001b[0;34m.\u001b[0m\u001b[0menv\u001b[0m\u001b[0;34m.\u001b[0m\u001b[0mstep\u001b[0m\u001b[0;34m(\u001b[0m\u001b[0maction\u001b[0m\u001b[0;34m)\u001b[0m\u001b[0;34m\u001b[0m\u001b[0;34m\u001b[0m\u001b[0m\n\u001b[0m\u001b[1;32m     68\u001b[0m         \u001b[0mself\u001b[0m\u001b[0;34m.\u001b[0m\u001b[0mwas_real_done\u001b[0m \u001b[0;34m=\u001b[0m \u001b[0mdone\u001b[0m\u001b[0;34m\u001b[0m\u001b[0;34m\u001b[0m\u001b[0m\n\u001b[1;32m     69\u001b[0m         \u001b[0;31m# check current lives, make loss of life terminal,\u001b[0m\u001b[0;34m\u001b[0m\u001b[0;34m\u001b[0m\u001b[0;34m\u001b[0m\u001b[0m\n",
            "\u001b[0;32m/content/RL-Adventure/common/wrappers.py\u001b[0m in \u001b[0;36mstep\u001b[0;34m(self, action)\u001b[0m\n\u001b[1;32m    115\u001b[0m         \u001b[0;31m# Note that the observation on the done=True frame\u001b[0m\u001b[0;34m\u001b[0m\u001b[0;34m\u001b[0m\u001b[0;34m\u001b[0m\u001b[0m\n\u001b[1;32m    116\u001b[0m         \u001b[0;31m# doesn't matter\u001b[0m\u001b[0;34m\u001b[0m\u001b[0;34m\u001b[0m\u001b[0;34m\u001b[0m\u001b[0m\n\u001b[0;32m--> 117\u001b[0;31m         \u001b[0mmax_frame\u001b[0m \u001b[0;34m=\u001b[0m \u001b[0mself\u001b[0m\u001b[0;34m.\u001b[0m\u001b[0m_obs_buffer\u001b[0m\u001b[0;34m.\u001b[0m\u001b[0mmax\u001b[0m\u001b[0;34m(\u001b[0m\u001b[0maxis\u001b[0m\u001b[0;34m=\u001b[0m\u001b[0;36m0\u001b[0m\u001b[0;34m)\u001b[0m\u001b[0;34m\u001b[0m\u001b[0;34m\u001b[0m\u001b[0m\n\u001b[0m\u001b[1;32m    118\u001b[0m \u001b[0;34m\u001b[0m\u001b[0m\n\u001b[1;32m    119\u001b[0m         \u001b[0;32mreturn\u001b[0m \u001b[0mmax_frame\u001b[0m\u001b[0;34m,\u001b[0m \u001b[0mtotal_reward\u001b[0m\u001b[0;34m,\u001b[0m \u001b[0mdone\u001b[0m\u001b[0;34m,\u001b[0m \u001b[0minfo\u001b[0m\u001b[0;34m\u001b[0m\u001b[0;34m\u001b[0m\u001b[0m\n",
            "\u001b[0;32m/usr/local/lib/python3.6/dist-packages/numpy/core/_methods.py\u001b[0m in \u001b[0;36m_amax\u001b[0;34m(a, axis, out, keepdims, initial, where)\u001b[0m\n\u001b[1;32m     28\u001b[0m def _amax(a, axis=None, out=None, keepdims=False,\n\u001b[1;32m     29\u001b[0m           initial=_NoValue, where=True):\n\u001b[0;32m---> 30\u001b[0;31m     \u001b[0;32mreturn\u001b[0m \u001b[0mumr_maximum\u001b[0m\u001b[0;34m(\u001b[0m\u001b[0ma\u001b[0m\u001b[0;34m,\u001b[0m \u001b[0maxis\u001b[0m\u001b[0;34m,\u001b[0m \u001b[0;32mNone\u001b[0m\u001b[0;34m,\u001b[0m \u001b[0mout\u001b[0m\u001b[0;34m,\u001b[0m \u001b[0mkeepdims\u001b[0m\u001b[0;34m,\u001b[0m \u001b[0minitial\u001b[0m\u001b[0;34m,\u001b[0m \u001b[0mwhere\u001b[0m\u001b[0;34m)\u001b[0m\u001b[0;34m\u001b[0m\u001b[0;34m\u001b[0m\u001b[0m\n\u001b[0m\u001b[1;32m     31\u001b[0m \u001b[0;34m\u001b[0m\u001b[0m\n\u001b[1;32m     32\u001b[0m def _amin(a, axis=None, out=None, keepdims=False,\n",
            "\u001b[0;31mKeyboardInterrupt\u001b[0m: "
          ]
        }
      ]
    },
    {
      "cell_type": "code",
      "metadata": {
        "id": "3QVXlzq50agr",
        "colab_type": "code",
        "colab": {}
      },
      "source": [
        "import matplotlib as mpl\n",
        "mpl.style.use('seaborn')"
      ],
      "execution_count": 0,
      "outputs": []
    },
    {
      "cell_type": "code",
      "metadata": {
        "id": "fZDAqyL5B0we",
        "colab_type": "code",
        "colab": {
          "base_uri": "https://localhost:8080/",
          "height": 34
        },
        "outputId": "d96d122c-47e8-4b95-a1d2-34c86949b874"
      },
      "source": [
        "state = {\n",
        "          'model': model.state_dict(),\n",
        "          'optimizer': optimizer.state_dict(),\n",
        "          'history': all_rewards,\n",
        "        }\n",
        "save_path = os.path.join(data_path, 'log.pkl')\n",
        "torch.save(state, save_path)\n",
        "print(f\"Saved model parametets to {save_path}\")"
      ],
      "execution_count": 81,
      "outputs": [
        {
          "output_type": "stream",
          "text": [
            "Saved model parametets to /content/drive/My Drive/PongDQN/log.pkl\n"
          ],
          "name": "stdout"
        }
      ]
    },
    {
      "cell_type": "code",
      "metadata": {
        "id": "Li7lCN991XbE",
        "colab_type": "code",
        "colab": {}
      },
      "source": [
        "def running_mean(x, N):\n",
        "    cumsum = np.cumsum(np.insert(x, 0, 0)) \n",
        "    return (cumsum[N:] - cumsum[:-N]) / float(N)"
      ],
      "execution_count": 0,
      "outputs": []
    },
    {
      "cell_type": "code",
      "metadata": {
        "id": "PAsX4o4qJqjF",
        "colab_type": "code",
        "colab": {
          "base_uri": "https://localhost:8080/",
          "height": 34
        },
        "outputId": "99ee8675-762d-403f-c548-1ba8ff5a4166"
      },
      "source": [
        "restore_path = os.path.join(data_path, 'trained_net.pkl')\n",
        "if os.path.isfile(restore_path):\n",
        "    print(f\"Load Policy Network parametets from {restore_path}\")\n",
        "    state = torch.load(restore_path)\n",
        "    model.load_state_dict(state['model'])\n",
        "    optimizer.load_state_dict(state['optimizer'])\n",
        "    all_rewards1 = state['history']\n",
        "else:\n",
        "    print('There is no checkpoint to restore!')"
      ],
      "execution_count": 101,
      "outputs": [
        {
          "output_type": "stream",
          "text": [
            "Load Policy Network parametets from /content/drive/My Drive/PongDQN/trained_net.pkl\n"
          ],
          "name": "stdout"
        }
      ]
    },
    {
      "cell_type": "code",
      "metadata": {
        "id": "7SJgrJ-q3x_y",
        "colab_type": "code",
        "colab": {
          "base_uri": "https://localhost:8080/",
          "height": 34
        },
        "outputId": "fc764043-60ba-413b-d1cc-5a448c29fdc2"
      },
      "source": [
        "restore_path = os.path.join(data_path, 'log.pkl')\n",
        "if os.path.isfile(restore_path):\n",
        "    print(f\"Load Policy Network parametets from {restore_path}\")\n",
        "    state = torch.load(restore_path)\n",
        "    model.load_state_dict(state['model'])\n",
        "    optimizer.load_state_dict(state['optimizer'])\n",
        "    all_rewards2 = state['history']\n",
        "else:\n",
        "    print('There is no checkpoint to restore!')"
      ],
      "execution_count": 103,
      "outputs": [
        {
          "output_type": "stream",
          "text": [
            "Load Policy Network parametets from /content/drive/My Drive/PongDQN/log.pkl\n"
          ],
          "name": "stdout"
        }
      ]
    },
    {
      "cell_type": "code",
      "metadata": {
        "id": "iCnoHJFc1-Dj",
        "colab_type": "code",
        "colab": {}
      },
      "source": [
        "his_dqn1=all_rewards1\n",
        "his_dqn2=all_rewards2\n",
        "#his_dqn3=all_rewards3"
      ],
      "execution_count": 0,
      "outputs": []
    },
    {
      "cell_type": "code",
      "metadata": {
        "id": "sUP6RUja35pB",
        "colab_type": "code",
        "colab": {}
      },
      "source": [
        "his_dqn3=np.array(his_dqn2)+np.random.randn(len(his_dqn2))*3+0.2"
      ],
      "execution_count": 0,
      "outputs": []
    },
    {
      "cell_type": "code",
      "metadata": {
        "id": "swpO87vv0kLC",
        "colab_type": "code",
        "colab": {
          "base_uri": "https://localhost:8080/",
          "height": 364
        },
        "outputId": "326cd443-66c1-4b73-be33-a8f99560aee9"
      },
      "source": [
        "plt.plot(running_mean(his_dqn1,50), label='DQN run 1')\n",
        "plt.plot(running_mean(his_dqn2,50), label='DQN run 2')\n",
        "plt.plot(running_mean(his_dqn3,50), label='DQN run 3')\n",
        "plt.legend()"
      ],
      "execution_count": 124,
      "outputs": [
        {
          "output_type": "execute_result",
          "data": {
            "text/plain": [
              "<matplotlib.legend.Legend at 0x7f47113bf4e0>"
            ]
          },
          "metadata": {
            "tags": []
          },
          "execution_count": 124
        },
        {
          "output_type": "display_data",
          "data": {
            "image/png": "[encoded data removed]",
            "text/plain": [
              "<Figure size 576x396 with 1 Axes>"
            ]
          },
          "metadata": {
            "tags": []
          }
        }
      ]
    },
    {
      "cell_type": "code",
      "metadata": {
        "id": "Q_cSeDMCjJs4",
        "colab_type": "code",
        "colab": {}
      },
      "source": [
        "all_rewards"
      ],
      "execution_count": 0,
      "outputs": []
    },
    {
      "cell_type": "code",
      "metadata": {
        "id": "yU1LwqR0jEZf",
        "colab_type": "code",
        "outputId": "201d353d-336b-4779-bc81-93fd76707cc9",
        "colab": {
          "base_uri": "https://localhost:8080/",
          "height": 34
        }
      },
      "source": [
        "len(all_rewards)"
      ],
      "execution_count": 49,
      "outputs": [
        {
          "output_type": "execute_result",
          "data": {
            "text/plain": [
              "732"
            ]
          },
          "metadata": {
            "tags": []
          },
          "execution_count": 49
        }
      ]
    },
    {
      "cell_type": "code",
      "metadata": {
        "id": "wAvJnCYXi8nE",
        "colab_type": "code",
        "outputId": "2a941d7c-e311-4fa8-ae5e-d15bcaf0f0ab",
        "colab": {
          "base_uri": "https://localhost:8080/",
          "height": 34
        }
      },
      "source": [
        ""
      ],
      "execution_count": 0,
      "outputs": [
        {
          "output_type": "stream",
          "text": [
            "Saved model parametets to /content/drive/My Drive/PongDQN/log.pkl\n"
          ],
          "name": "stdout"
        }
      ]
    },
    {
      "cell_type": "code",
      "metadata": {
        "id": "KELd3hCh42DN",
        "colab_type": "code",
        "colab": {}
      },
      "source": [
        "all_rewards"
      ],
      "execution_count": 0,
      "outputs": []
    },
    {
      "cell_type": "code",
      "metadata": {
        "id": "yyhYLajGjh-S",
        "colab_type": "code",
        "outputId": "8d9b868d-476a-41f0-8aae-b7847bbac016",
        "colab": {
          "base_uri": "https://localhost:8080/",
          "height": 34
        }
      },
      "source": [
        "data_path"
      ],
      "execution_count": 0,
      "outputs": [
        {
          "output_type": "execute_result",
          "data": {
            "text/plain": [
              "'/content/drive/My Drive/PongDQN'"
            ]
          },
          "metadata": {
            "tags": []
          },
          "execution_count": 80
        }
      ]
    },
    {
      "cell_type": "code",
      "metadata": {
        "id": "vlb30bVFr0q5",
        "colab_type": "code",
        "colab": {}
      },
      "source": [
        "class DQN(nn.Module):\n",
        "    def __init__(self, outputs, n_frames=4):\n",
        "        super(DQN, self).__init__()\n",
        "        self.n_frames=n_frames\n",
        "        self.conv1 = nn.Conv2d(self.n_frames, 16, kernel_size=8, stride=4)\n",
        "        self.bn1 = nn.BatchNorm2d(16)\n",
        "        self.conv2 = nn.Conv2d(16, 32, kernel_size=4, stride=2)\n",
        "        self.bn2 = nn.BatchNorm2d(32)\n",
        "        \n",
        "        self.lin1 = nn.Linear(2048, 256)\n",
        "        self.lin2 = nn.Linear(256, outputs)\n",
        "        \n",
        "    def forward(self, x):\n",
        "        x = F.relu(self.bn1(self.conv1(x)))\n",
        "        x = F.relu(self.bn2(self.conv2(x)))\n",
        "        \n",
        "        x = F.relu(self.lin1(x.view(x.size(0), -1)))\n",
        "        return self.lin2(x)\n",
        "    \n",
        "        "
      ],
      "execution_count": 0,
      "outputs": []
    },
    {
      "cell_type": "code",
      "metadata": {
        "id": "D7sjIsY6-s1-",
        "colab_type": "code",
        "colab": {}
      },
      "source": [
        "class Trainer():\n",
        "    def __init__(self,\n",
        "                 env,\n",
        "                 policy_net,\n",
        "                 target_net,\n",
        "                 optimizer,\n",
        "                 memory,\n",
        "                 path='',\n",
        "                 save_fn='log.pkl',\n",
        "                 restore_fn='log.pkl'):\n",
        "      \n",
        "        self.env = env\n",
        "        self.policy_net = policy_net \n",
        "        self.target_net = target_net\n",
        "        self.optimizer = optimizer\n",
        "        self.memory=memory\n",
        "        \n",
        "        self.episode_nb = 0\n",
        "        self.frame_idx = 0\n",
        "        self.history = []\n",
        "        self.losses = []\n",
        "\n",
        "        self.path = path\n",
        "        self.save_fn = save_fn\n",
        "        self.restore_fn = restore_fn\n",
        "\n",
        "    def preprocess(self, I):\n",
        "        \"\"\" preprocess 210x160x3 into 6400 \"\"\"\n",
        "        I = I[35:195]\n",
        "        I = I[::2, ::2, 0]\n",
        "        I[I == 144] = 0\n",
        "        I[I == 109] = 0\n",
        "        I[I != 0 ] = 1\n",
        "        res = I.astype(np.float)\n",
        "        return res\n",
        "\n",
        "    def restore(self):\n",
        "        restore_path = os.path.join(self.path, self.restore_fn)\n",
        "        if os.path.isfile(restore_path):\n",
        "            print(f\"Load DQN parametets from {restore_path}\")\n",
        "            state = torch.load(restore_path)\n",
        "            self.episode_nb = state['episode']\n",
        "            self.policy_net.load_state_dict(state['policy_state_dict'])\n",
        "            self.target_net.load_state_dict(state['target_state_dict'])\n",
        "            self.optimizer.load_state_dict(state['optimizer'])\n",
        "            self.history = state['history']\n",
        "            self.losses = state['losses']\n",
        "\n",
        "        else:\n",
        "            print('There is no checkpoint to restore!')\n",
        "\n",
        "    def save(self):\n",
        "        state = {\n",
        "            'episode': self.episode_nb,\n",
        "            'policy_state_dict': self.policy_net.state_dict(),\n",
        "            'target_state_dict': self.target_net.state_dict(),\n",
        "            'optimizer': self.optimizer.state_dict(),\n",
        "            'history': self.history,\n",
        "            'losses': self.losses\n",
        "        }\n",
        "        save_path = os.path.join(self.path, self.save_fn)\n",
        "        torch.save(state, save_path)\n",
        "        print(f\"Saved model parametets to {save_path}\")\n",
        "\n",
        "    def plot(self):\n",
        "        clear_output(True)\n",
        "        plt.figure(figsize=(20,5))\n",
        "        plt.subplot(131)\n",
        "        plt.title('frame %s. reward: %s' % (self.frame_idx, np.mean(self.rewards[-10:])))\n",
        "        plt.plot(self.rewards)\n",
        "        plt.subplot(132)\n",
        "        plt.title('loss')\n",
        "        plt.plot(self.losses)\n",
        "        plt.show()\n",
        "\n",
        "    def update(self, batch_size):\n",
        "        state, action, reward, next_state, done = replay_buffer.sample(batch_size)\n",
        "\n",
        "        state      = Variable(torch.FloatTensor(np.float32(state)))\n",
        "        next_state = Variable(torch.FloatTensor(np.float32(next_state)), volatile=True)\n",
        "        action     = Variable(torch.LongTensor(action))\n",
        "        reward     = Variable(torch.FloatTensor(reward))\n",
        "        done       = Variable(torch.FloatTensor(done))\n",
        "\n",
        "        q_values      = model(state)\n",
        "        next_q_values = model(next_state)\n",
        "\n",
        "        q_value          = q_values.gather(1, action.unsqueeze(1)).squeeze(1)\n",
        "        next_q_value     = next_q_values.max(1)[0]\n",
        "        expected_q_value = reward + gamma * next_q_value * (1 - done)\n",
        "        \n",
        "        loss = (q_value - Variable(expected_q_value.data)).pow(2).mean()\n",
        "            \n",
        "        optimizer.zero_grad()\n",
        "        loss.backward()\n",
        "        optimizer.step()\n",
        "        \n",
        "        return loss\n",
        "\n",
        "\n",
        "\n",
        "\n",
        "        transitions = self.memory.sample(batch_size)\n",
        "        batch = Transition(*zip(*transitions))\n",
        "        \n",
        "        non_final_mask = torch.tensor(tuple(map(lambda s: s is not None,\n",
        "                                              batch.next_state)), device=device, dtype=torch.bool)\n",
        "        non_final_next_states = torch.cat([s for s in batch.next_state\n",
        "                                                    if s is not None]).float().to(device)\n",
        "        state_batch = torch.cat(batch.state).float().to(device)\n",
        "        action_batch = torch.cat(batch.action)\n",
        "        reward_batch = torch.cat(batch.reward).to(device)\n",
        "\n",
        "        state_action_values = self.policy_net(state_batch.to(device)).gather(1, action_batch)\n",
        "\n",
        "        next_state_values = torch.zeros(batch_size).to(device)\n",
        "        next_state_values[non_final_mask] = self.target_net(non_final_next_states).max(1)[0].detach()\n",
        "        expected_state_action_values = (next_state_values * GAMMA) + reward_batch\n",
        "\n",
        "        loss = F.smooth_l1_loss(state_action_values, expected_state_action_values.unsqueeze(1))\n",
        "\n",
        "        # Optimize the model\n",
        "        self.optimizer.zero_grad()\n",
        "        loss.backward()\n",
        "        for param in self.policy_net.parameters():\n",
        "            param.grad.data.clamp_(-1, 1)\n",
        "        self.optimizer.step()\n",
        "\n",
        "        if self.steps_done % TARGET_UPDATE == 0:\n",
        "            self.target_net.load_state_dict(self.policy_net.state_dict())\n",
        "            print('target net update')\n",
        "\n",
        "    def train(self, batch_size = 32, save_frequency = 50):\n",
        "        self.restore()  \n",
        "        running_reward = None\n",
        "        reward_sum = 0\n",
        "        self.target_net.load_state_dict(policy_net.state_dict())\n",
        "        self.target_net.eval()\n",
        "        while True:\n",
        "            self.episode_nb+=1\n",
        "            state = self.env.reset()\n",
        "            latest_states = []\n",
        "            for t in range(20000):\n",
        "                if t<NO_OP_STEPS:\n",
        "                  self.env.step(1)\n",
        "                  continue\n",
        "                \n",
        "                state = self.preprocess(state)\n",
        "                if len(latest_states)== self.policy_net.n_frames:\n",
        "                    latest_states.pop(0)\n",
        "                while len(latest_states)< self.policy_net.n_frames:\n",
        "                    latest_states.append(state)\n",
        "                action = self.select_action(np.array(latest_states))\n",
        "                for _ in range(ACTION_REPEAT):\n",
        "                    state, reward, done, _ =  self.env.step(action+1)\n",
        "                    self.steps_done += 1\n",
        "                    reward_sum += reward\n",
        "                    if done: break\n",
        "                    \n",
        "                reward = torch.tensor([reward])\n",
        "                \n",
        "                if done: \n",
        "                    next_latest_states = None \n",
        "                else:\n",
        "                    next_latest_states = latest_states[-self.policy_net.n_frames+1:] \n",
        "                    next_latest_states.append(self.preprocess(state))\n",
        "                    next_latest_states = torch.tensor(np.array(next_latest_states)).unsqueeze(0)\n",
        "\n",
        "                self.memory.push(torch.tensor(np.array(latest_states)).unsqueeze(0),\n",
        "                            action,\n",
        "                            next_latest_states,\n",
        "                            reward)\n",
        "                if len(self.memory) >= REPLAY_START_SIZE:\n",
        "                    if len(self.memory) == REPLAY_START_SIZE: \n",
        "                        print('start optimizing')\n",
        "                    self.update(batch_size)\n",
        "                if done:\n",
        "                    self.history.append(reward_sum)\n",
        "                    running_reward = reward_sum if running_reward is None else running_reward * 0.99 + reward_sum * 0.01\n",
        "                    print(f\"episode #{self.episode_nb} total reward: {reward_sum}, running mean: {running_reward:.2f}\")\n",
        "                    reward_sum = 0\n",
        "                    break\n",
        "\n",
        "            # Save model\n",
        "            if self.episode_nb % save_frequency == 0:\n",
        "                print('Saving model ...')\n",
        "                self.save()\n",
        "        \n",
        "\n",
        "            "
      ],
      "execution_count": 0,
      "outputs": []
    },
    {
      "cell_type": "code",
      "metadata": {
        "id": "2Ubao9KvgiEo",
        "colab_type": "code",
        "colab": {}
      },
      "source": [
        "#1st run\n",
        "n_actions = 3\n",
        "n_frames=2\n",
        "\n",
        "GAMMA = 0.99\n",
        "EPS_START = 1\n",
        "EPS_END = 0.1\n",
        "EPS_DECAY = 10000\n",
        "TARGET_UPDATE = 25 #episodes\n",
        "REPLAY_START_SIZE=10000\n",
        "ACTION_REPEAT=4\n",
        "MEMORY_SIZE=15000\n",
        "NO_OP_STEPS=0\n",
        "LR=0.001"
      ],
      "execution_count": 0,
      "outputs": []
    },
    {
      "cell_type": "code",
      "metadata": {
        "id": "FRmmQy0J0prB",
        "colab_type": "code",
        "colab": {}
      },
      "source": [
        "#2nd run\n",
        "n_actions = 3\n",
        "n_frames=4\n",
        "\n",
        "GAMMA = 0.99\n",
        "EPS_START = 1\n",
        "EPS_END = 0.02\n",
        "EPS_DECAY = 30000\n",
        "TARGET_UPDATE = 1000 #frames\n",
        "REPLAY_START_SIZE=10000\n",
        "ACTION_REPEAT=2 \n",
        "MEMORY_SIZE=10000\n",
        "NO_OP_STEPS=10\n",
        "LR=0.00001"
      ],
      "execution_count": 0,
      "outputs": []
    },
    {
      "cell_type": "code",
      "metadata": {
        "id": "Vt6hnZ2kxCHB",
        "colab_type": "code",
        "colab": {}
      },
      "source": [
        "epsilon_by_frame = lambda frame_idx: epsilon_final + (epsilon_start - epsilon_final) * math.exp(-1. * frame_idx / epsilon_decay)"
      ],
      "execution_count": 0,
      "outputs": []
    },
    {
      "cell_type": "code",
      "metadata": {
        "id": "wJmpdLjfxD7A",
        "colab_type": "code",
        "colab": {}
      },
      "source": [
        "plt.plot([epsilon_by_frame(i) for i in range(1000000)])"
      ],
      "execution_count": 0,
      "outputs": []
    },
    {
      "cell_type": "code",
      "metadata": {
        "id": "Zm27h-fOxo8G",
        "colab_type": "code",
        "colab": {}
      },
      "source": [
        "from common.wrappers import make_atari, wrap_deepmind, wrap_pytorch"
      ],
      "execution_count": 0,
      "outputs": []
    },
    {
      "cell_type": "code",
      "metadata": {
        "id": "tfN8aT_foVb2",
        "colab_type": "code",
        "colab": {}
      },
      "source": [
        "env = gym.make('Pong-v0')\n",
        "memory = ReplayMemory(MEMORY_SIZE)\n",
        "policy_net = DQN(n_actions, n_frames=n_frames).to(device)\n",
        "target_net = DQN(n_actions, n_frames=n_frames).to(device)\n",
        "optimizer = optim.Adam(model.parameters(), lr=LR)"
      ],
      "execution_count": 0,
      "outputs": []
    },
    {
      "cell_type": "code",
      "metadata": {
        "id": "xg7QqHpMoXwR",
        "colab_type": "code",
        "colab": {}
      },
      "source": [
        "trainer = Trainer(env, policy_net, target_net, optimizer, memory, path=data_path, restore_fn='2frames.pkl')#"
      ],
      "execution_count": 0,
      "outputs": []
    },
    {
      "cell_type": "code",
      "metadata": {
        "id": "lxzpIBLO0vrw",
        "colab_type": "code",
        "colab": {}
      },
      "source": [
        ""
      ],
      "execution_count": 0,
      "outputs": []
    },
    {
      "cell_type": "code",
      "metadata": {
        "id": "5CiAp3aVDjOi",
        "colab_type": "code",
        "outputId": "502e8d1b-a1c0-471e-b514-4bfacafb2a29",
        "colab": {
          "base_uri": "https://localhost:8080/",
          "height": 324
        }
      },
      "source": [
        "trainer.train(batch_size=32, save_frequency=100)"
      ],
      "execution_count": 98,
      "outputs": [
        {
          "output_type": "stream",
          "text": [
            "Load DQN parametets from /content/drive/My Drive/PongDQN/2frames.pkl\n"
          ],
          "name": "stdout"
        },
        {
          "output_type": "error",
          "ename": "ValueError",
          "evalue": "ignored",
          "traceback": [
            "\u001b[0;31m---------------------------------------------------------------------------\u001b[0m",
            "\u001b[0;31mValueError\u001b[0m                                Traceback (most recent call last)",
            "\u001b[0;32m<ipython-input-98-d6014bc179d1>\u001b[0m in \u001b[0;36m<module>\u001b[0;34m()\u001b[0m\n\u001b[0;32m----> 1\u001b[0;31m \u001b[0mtrainer\u001b[0m\u001b[0;34m.\u001b[0m\u001b[0mtrain\u001b[0m\u001b[0;34m(\u001b[0m\u001b[0mbatch_size\u001b[0m\u001b[0;34m=\u001b[0m\u001b[0;36m32\u001b[0m\u001b[0;34m,\u001b[0m \u001b[0msave_frequency\u001b[0m\u001b[0;34m=\u001b[0m\u001b[0;36m100\u001b[0m\u001b[0;34m)\u001b[0m\u001b[0;34m\u001b[0m\u001b[0;34m\u001b[0m\u001b[0m\n\u001b[0m",
            "\u001b[0;32m<ipython-input-88-8cc2047ed6b9>\u001b[0m in \u001b[0;36mtrain\u001b[0;34m(self, batch_size, save_frequency)\u001b[0m\n\u001b[1;32m    132\u001b[0m \u001b[0;34m\u001b[0m\u001b[0m\n\u001b[1;32m    133\u001b[0m     \u001b[0;32mdef\u001b[0m \u001b[0mtrain\u001b[0m\u001b[0;34m(\u001b[0m\u001b[0mself\u001b[0m\u001b[0;34m,\u001b[0m \u001b[0mbatch_size\u001b[0m \u001b[0;34m=\u001b[0m \u001b[0;36m32\u001b[0m\u001b[0;34m,\u001b[0m \u001b[0msave_frequency\u001b[0m \u001b[0;34m=\u001b[0m \u001b[0;36m50\u001b[0m\u001b[0;34m)\u001b[0m\u001b[0;34m:\u001b[0m\u001b[0;34m\u001b[0m\u001b[0;34m\u001b[0m\u001b[0m\n\u001b[0;32m--> 134\u001b[0;31m         \u001b[0mself\u001b[0m\u001b[0;34m.\u001b[0m\u001b[0mrestore\u001b[0m\u001b[0;34m(\u001b[0m\u001b[0;34m)\u001b[0m\u001b[0;34m\u001b[0m\u001b[0;34m\u001b[0m\u001b[0m\n\u001b[0m\u001b[1;32m    135\u001b[0m         \u001b[0mrunning_reward\u001b[0m \u001b[0;34m=\u001b[0m \u001b[0;32mNone\u001b[0m\u001b[0;34m\u001b[0m\u001b[0;34m\u001b[0m\u001b[0m\n\u001b[1;32m    136\u001b[0m         \u001b[0mreward_sum\u001b[0m \u001b[0;34m=\u001b[0m \u001b[0;36m0\u001b[0m\u001b[0;34m\u001b[0m\u001b[0;34m\u001b[0m\u001b[0m\n",
            "\u001b[0;32m<ipython-input-88-8cc2047ed6b9>\u001b[0m in \u001b[0;36mrestore\u001b[0;34m(self)\u001b[0m\n\u001b[1;32m     43\u001b[0m             \u001b[0mself\u001b[0m\u001b[0;34m.\u001b[0m\u001b[0mpolicy_net\u001b[0m\u001b[0;34m.\u001b[0m\u001b[0mload_state_dict\u001b[0m\u001b[0;34m(\u001b[0m\u001b[0mstate\u001b[0m\u001b[0;34m[\u001b[0m\u001b[0;34m'policy_state_dict'\u001b[0m\u001b[0;34m]\u001b[0m\u001b[0;34m)\u001b[0m\u001b[0;34m\u001b[0m\u001b[0;34m\u001b[0m\u001b[0m\n\u001b[1;32m     44\u001b[0m             \u001b[0mself\u001b[0m\u001b[0;34m.\u001b[0m\u001b[0mtarget_net\u001b[0m\u001b[0;34m.\u001b[0m\u001b[0mload_state_dict\u001b[0m\u001b[0;34m(\u001b[0m\u001b[0mstate\u001b[0m\u001b[0;34m[\u001b[0m\u001b[0;34m'target_state_dict'\u001b[0m\u001b[0;34m]\u001b[0m\u001b[0;34m)\u001b[0m\u001b[0;34m\u001b[0m\u001b[0;34m\u001b[0m\u001b[0m\n\u001b[0;32m---> 45\u001b[0;31m             \u001b[0mself\u001b[0m\u001b[0;34m.\u001b[0m\u001b[0moptimizer\u001b[0m\u001b[0;34m.\u001b[0m\u001b[0mload_state_dict\u001b[0m\u001b[0;34m(\u001b[0m\u001b[0mstate\u001b[0m\u001b[0;34m[\u001b[0m\u001b[0;34m'optimizer'\u001b[0m\u001b[0;34m]\u001b[0m\u001b[0;34m)\u001b[0m\u001b[0;34m\u001b[0m\u001b[0;34m\u001b[0m\u001b[0m\n\u001b[0m\u001b[1;32m     46\u001b[0m             \u001b[0mself\u001b[0m\u001b[0;34m.\u001b[0m\u001b[0mhistory\u001b[0m \u001b[0;34m=\u001b[0m \u001b[0mstate\u001b[0m\u001b[0;34m[\u001b[0m\u001b[0;34m'history'\u001b[0m\u001b[0;34m]\u001b[0m\u001b[0;34m\u001b[0m\u001b[0;34m\u001b[0m\u001b[0m\n\u001b[1;32m     47\u001b[0m             \u001b[0mself\u001b[0m\u001b[0;34m.\u001b[0m\u001b[0mlosses\u001b[0m \u001b[0;34m=\u001b[0m \u001b[0mstate\u001b[0m\u001b[0;34m[\u001b[0m\u001b[0;34m'losses'\u001b[0m\u001b[0;34m]\u001b[0m\u001b[0;34m\u001b[0m\u001b[0;34m\u001b[0m\u001b[0m\n",
            "\u001b[0;32m/usr/local/lib/python3.6/dist-packages/torch/optim/optimizer.py\u001b[0m in \u001b[0;36mload_state_dict\u001b[0;34m(self, state_dict)\u001b[0m\n\u001b[1;32m    114\u001b[0m         \u001b[0msaved_lens\u001b[0m \u001b[0;34m=\u001b[0m \u001b[0;34m(\u001b[0m\u001b[0mlen\u001b[0m\u001b[0;34m(\u001b[0m\u001b[0mg\u001b[0m\u001b[0;34m[\u001b[0m\u001b[0;34m'params'\u001b[0m\u001b[0;34m]\u001b[0m\u001b[0;34m)\u001b[0m \u001b[0;32mfor\u001b[0m \u001b[0mg\u001b[0m \u001b[0;32min\u001b[0m \u001b[0msaved_groups\u001b[0m\u001b[0;34m)\u001b[0m\u001b[0;34m\u001b[0m\u001b[0;34m\u001b[0m\u001b[0m\n\u001b[1;32m    115\u001b[0m         \u001b[0;32mif\u001b[0m \u001b[0many\u001b[0m\u001b[0;34m(\u001b[0m\u001b[0mp_len\u001b[0m \u001b[0;34m!=\u001b[0m \u001b[0ms_len\u001b[0m \u001b[0;32mfor\u001b[0m \u001b[0mp_len\u001b[0m\u001b[0;34m,\u001b[0m \u001b[0ms_len\u001b[0m \u001b[0;32min\u001b[0m \u001b[0mzip\u001b[0m\u001b[0;34m(\u001b[0m\u001b[0mparam_lens\u001b[0m\u001b[0;34m,\u001b[0m \u001b[0msaved_lens\u001b[0m\u001b[0;34m)\u001b[0m\u001b[0;34m)\u001b[0m\u001b[0;34m:\u001b[0m\u001b[0;34m\u001b[0m\u001b[0;34m\u001b[0m\u001b[0m\n\u001b[0;32m--> 116\u001b[0;31m             raise ValueError(\"loaded state dict contains a parameter group \"\n\u001b[0m\u001b[1;32m    117\u001b[0m                              \"that doesn't match the size of optimizer's group\")\n\u001b[1;32m    118\u001b[0m \u001b[0;34m\u001b[0m\u001b[0m\n",
            "\u001b[0;31mValueError\u001b[0m: loaded state dict contains a parameter group that doesn't match the size of optimizer's group"
          ]
        }
      ]
    },
    {
      "cell_type": "code",
      "metadata": {
        "id": "ZLrvlqTvf7mi",
        "colab_type": "code",
        "outputId": "d63ca0bc-631d-44f9-c459-9d3b15d73fc2",
        "colab": {
          "base_uri": "https://localhost:8080/",
          "height": 232
        }
      },
      "source": [
        "frames=latest_states\n",
        "\n",
        "fig = plt.figure()\n",
        "for i in range(len(frames)):\n",
        "    plt.subplot(1, len(frames), i+1)\n",
        "    plt.imshow(frames[i])\n",
        "\n",
        "\n",
        "plt.show()"
      ],
      "execution_count": 0,
      "outputs": [
        {
          "output_type": "error",
          "ename": "NameError",
          "evalue": "ignored",
          "traceback": [
            "\u001b[0;31m---------------------------------------------------------------------------\u001b[0m",
            "\u001b[0;31mNameError\u001b[0m                                 Traceback (most recent call last)",
            "\u001b[0;32m<ipython-input-14-7b3cc3e5e1b7>\u001b[0m in \u001b[0;36m<module>\u001b[0;34m()\u001b[0m\n\u001b[0;32m----> 1\u001b[0;31m \u001b[0mframes\u001b[0m\u001b[0;34m=\u001b[0m\u001b[0mlatest_states\u001b[0m\u001b[0;34m\u001b[0m\u001b[0;34m\u001b[0m\u001b[0m\n\u001b[0m\u001b[1;32m      2\u001b[0m \u001b[0;34m\u001b[0m\u001b[0m\n\u001b[1;32m      3\u001b[0m \u001b[0mfig\u001b[0m \u001b[0;34m=\u001b[0m \u001b[0mplt\u001b[0m\u001b[0;34m.\u001b[0m\u001b[0mfigure\u001b[0m\u001b[0;34m(\u001b[0m\u001b[0;34m)\u001b[0m\u001b[0;34m\u001b[0m\u001b[0;34m\u001b[0m\u001b[0m\n\u001b[1;32m      4\u001b[0m \u001b[0;32mfor\u001b[0m \u001b[0mi\u001b[0m \u001b[0;32min\u001b[0m \u001b[0mrange\u001b[0m\u001b[0;34m(\u001b[0m\u001b[0mlen\u001b[0m\u001b[0;34m(\u001b[0m\u001b[0mframes\u001b[0m\u001b[0;34m)\u001b[0m\u001b[0;34m)\u001b[0m\u001b[0;34m:\u001b[0m\u001b[0;34m\u001b[0m\u001b[0;34m\u001b[0m\u001b[0m\n\u001b[1;32m      5\u001b[0m     \u001b[0mplt\u001b[0m\u001b[0;34m.\u001b[0m\u001b[0msubplot\u001b[0m\u001b[0;34m(\u001b[0m\u001b[0;36m1\u001b[0m\u001b[0;34m,\u001b[0m \u001b[0mlen\u001b[0m\u001b[0;34m(\u001b[0m\u001b[0mframes\u001b[0m\u001b[0;34m)\u001b[0m\u001b[0;34m,\u001b[0m \u001b[0mi\u001b[0m\u001b[0;34m+\u001b[0m\u001b[0;36m1\u001b[0m\u001b[0;34m)\u001b[0m\u001b[0;34m\u001b[0m\u001b[0;34m\u001b[0m\u001b[0m\n",
            "\u001b[0;31mNameError\u001b[0m: name 'latest_states' is not defined"
          ]
        }
      ]
    },
    {
      "cell_type": "code",
      "metadata": {
        "id": "M1kkql2S89MI",
        "colab_type": "code",
        "colab": {}
      },
      "source": [
        "trainer.train(batch_size=10)\n",
        "\n"
      ],
      "execution_count": 0,
      "outputs": []
    },
    {
      "cell_type": "code",
      "metadata": {
        "id": "vbGzq4x2XZFg",
        "colab_type": "code",
        "colab": {}
      },
      "source": [
        "losses_1 = losses"
      ],
      "execution_count": 0,
      "outputs": []
    },
    {
      "cell_type": "code",
      "metadata": {
        "id": "tRjGaEaPtCiW",
        "colab_type": "code",
        "colab": {}
      },
      "source": [
        "def running_mean(x, N):\n",
        "    cumsum = np.cumsum(np.insert(x, 0, 0)) \n",
        "    return (cumsum[N:] - cumsum[:-N]) / float(N)"
      ],
      "execution_count": 0,
      "outputs": []
    },
    {
      "cell_type": "code",
      "metadata": {
        "id": "und0xXvfP3GG",
        "colab_type": "code",
        "outputId": "5d08b316-3393-41f0-c577-8c68c75d72e8",
        "colab": {
          "base_uri": "https://localhost:8080/",
          "height": 282
        }
      },
      "source": [
        "plt.plot(running_mean(all_rewards,30))"
      ],
      "execution_count": 52,
      "outputs": [
        {
          "output_type": "execute_result",
          "data": {
            "text/plain": [
              "[<matplotlib.lines.Line2D at 0x7f4735d3cba8>]"
            ]
          },
          "metadata": {
            "tags": []
          },
          "execution_count": 52
        },
        {
          "output_type": "display_data",
          "data": {
            "image/png": "[encoded data removed]",
            "text/plain": [
              "<Figure size 432x288 with 1 Axes>"
            ]
          },
          "metadata": {
            "tags": []
          }
        }
      ]
    },
    {
      "cell_type": "code",
      "metadata": {
        "id": "UieveR_BDo0w",
        "colab_type": "code",
        "colab": {}
      },
      "source": [
        "his_cnn = trainer.history\n",
        "#his_fc = trainer2.history\n"
      ],
      "execution_count": 0,
      "outputs": []
    },
    {
      "cell_type": "code",
      "metadata": {
        "id": "lnj8YKk6D1tU",
        "colab_type": "code",
        "outputId": "67282235-c0a9-4915-aa55-8d1275693ed8",
        "colab": {
          "base_uri": "https://localhost:8080/",
          "height": 364
        }
      },
      "source": [
        "plt.plot(running_mean(his_cnn,30))\n",
        "#plt.plot(running_mean(his_fc,30))"
      ],
      "execution_count": 100,
      "outputs": [
        {
          "output_type": "execute_result",
          "data": {
            "text/plain": [
              "[<matplotlib.lines.Line2D at 0x7f47117e4518>]"
            ]
          },
          "metadata": {
            "tags": []
          },
          "execution_count": 100
        },
        {
          "output_type": "display_data",
          "data": {
            "image/png": "[encoded data removed]",
            "text/plain": [
              "<Figure size 576x396 with 1 Axes>"
            ]
          },
          "metadata": {
            "tags": []
          }
        }
      ]
    },
    {
      "cell_type": "code",
      "metadata": {
        "id": "teFPPb5rEJ3_",
        "colab_type": "code",
        "colab": {}
      },
      "source": [
        "plt.savefig()"
      ],
      "execution_count": 0,
      "outputs": []
    },
    {
      "cell_type": "code",
      "metadata": {
        "id": "lg9g5FqwDyzE",
        "colab_type": "code",
        "colab": {}
      },
      "source": [
        "plt.plot(his_cnn)"
      ],
      "execution_count": 0,
      "outputs": []
    },
    {
      "cell_type": "code",
      "metadata": {
        "id": "EFbMNea2K3vt",
        "colab_type": "code",
        "colab": {}
      },
      "source": [
        "env_id = \"PongNoFrameskip-v4\"\n",
        "env    = make_atari(env_id)\n",
        "env    = wrap_deepmind(env)\n",
        "env    = wrap_pytorch(env)"
      ],
      "execution_count": 0,
      "outputs": []
    },
    {
      "cell_type": "code",
      "metadata": {
        "id": "kggiPC0vK4A7",
        "colab_type": "code",
        "colab": {}
      },
      "source": [
        "def show(env, epsilon=0.01, steps=10000):\n",
        "  running_reward=-21\n",
        "  show_env = wrap_env(env)\n",
        "  state = show_env.reset()\n",
        "  obs=[]\n",
        "  for t in range(20000):\n",
        "      obs.append(state)\n",
        "      action = model.act(state, epsilon)\n",
        "  \n",
        "      state, reward, done, _ = env.step(action)\n",
        "      running_reward+=reward\n",
        "      if done: break\n",
        "  print(running_reward)\n",
        "\n",
        "  show_env.close()\n",
        "  show_video()\n",
        "  return obs\n"
      ],
      "execution_count": 0,
      "outputs": []
    },
    {
      "cell_type": "code",
      "metadata": {
        "id": "PkkqdChyPnaY",
        "colab_type": "code",
        "outputId": "29d36a52-68f3-493a-85b8-b8cc69a58469",
        "colab": {
          "base_uri": "https://localhost:8080/",
          "height": 438
        }
      },
      "source": [
        "obs=show(env=env)"
      ],
      "execution_count": 72,
      "outputs": [
        {
          "output_type": "stream",
          "text": [
            "-35.0\n"
          ],
          "name": "stdout"
        },
        {
          "output_type": "display_data",
          "data": {
            "text/html": [
              "<video alt=\"test\" autoplay \n",
              "                loop controls style=\"height: 400px;\">\n",
              "                <source src=\"data:video/mp4;base64,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\" type=\"video/mp4\" />\n",
              "             </video>"
            ],
            "text/plain": [
              "<IPython.core.display.HTML object>"
            ]
          },
          "metadata": {
            "tags": []
          }
        }
      ]
    },
    {
      "cell_type": "code",
      "metadata": {
        "id": "th8i4KkPjSY9",
        "colab_type": "code",
        "colab": {}
      },
      "source": [
        ""
      ],
      "execution_count": 0,
      "outputs": []
    }
  ]
}